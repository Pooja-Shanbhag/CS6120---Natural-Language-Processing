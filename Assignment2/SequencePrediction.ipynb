{
  "nbformat": 4,
  "nbformat_minor": 0,
  "metadata": {
    "accelerator": "GPU",
    "colab": {
      "name": "SequencePrediction.ipynb",
      "provenance": [],
      "collapsed_sections": [],
      "include_colab_link": true
    },
    "kernelspec": {
      "display_name": "Python 3",
      "language": "python",
      "name": "python3"
    },
    "language_info": {
      "codemirror_mode": {
        "name": "ipython",
        "version": 3
      },
      "file_extension": ".py",
      "mimetype": "text/x-python",
      "name": "python",
      "nbconvert_exporter": "python",
      "pygments_lexer": "ipython3",
      "version": "3.6.9"
    },
    "toc": {
      "colors": {
        "hover_highlight": "#DAA520",
        "running_highlight": "#FF0000",
        "selected_highlight": "#FFD700"
      },
      "moveMenuLeft": true,
      "nav_menu": {
        "height": "264px",
        "width": "252px"
      },
      "navigate_menu": true,
      "number_sections": true,
      "sideBar": true,
      "threshold": "5",
      "toc_cell": false,
      "toc_section_display": "block",
      "toc_window_display": false
    }
  },
  "cells": [
    {
      "cell_type": "markdown",
      "metadata": {
        "id": "view-in-github",
        "colab_type": "text"
      },
      "source": [
        "<a href=\"https://colab.research.google.com/github/NULabTMN/ps2-PoojaKShanbhag/blob/master/SequencePrediction.ipynb\" target=\"_parent\"><img src=\"https://colab.research.google.com/assets/colab-badge.svg\" alt=\"Open In Colab\"/></a>"
      ]
    },
    {
      "cell_type": "markdown",
      "metadata": {
        "colab_type": "text",
        "id": "crOQ7QBjhrgV"
      },
      "source": [
        "# Sequence Prediction: Surname Generation"
      ]
    },
    {
      "cell_type": "markdown",
      "metadata": {
        "colab_type": "text",
        "id": "a7mWak9NZqsE"
      },
      "source": [
        "In this experiment, you will explore a simple sequence prediction task: Text generation using a Gated Recurrent Unit (GRU). Like the LSTM, this is a  gated recurrent neural network, but since it has fewer parameters, it should be more appropriate for a smaller dataset.\n",
        "\n",
        "The GRU computes a probability distribution over the set of possible characters in the surname vocabulary for each time step. We use these probability distributions to generate new surnames. You are given a starter code, that trains a SurnameGenerationModel on the [surname dataset](https://github.com/jasoriya/CS6120-PS2-support/blob/master/data/surnames/surnames_with_splits.csv) to generate new surnames by learning from the training data. \n",
        "\n"
      ]
    },
    {
      "cell_type": "markdown",
      "metadata": {
        "colab_type": "text",
        "id": "TJkLtjvSaf5P"
      },
      "source": [
        "Your task is to understand this code and plot the over all perplxity of GRU model as a function of the hidden representation size (K) and the number of characters already observed. You will see **TODO** prompts in the following cells"
      ]
    },
    {
      "cell_type": "markdown",
      "metadata": {
        "colab_type": "text",
        "id": "YEjYmZ5Shrgb"
      },
      "source": [
        "## Imports"
      ]
    },
    {
      "cell_type": "code",
      "metadata": {
        "colab_type": "code",
        "id": "DIbXsKQLhrgd",
        "colab": {}
      },
      "source": [
        "import os\n",
        "from argparse import Namespace\n",
        "\n",
        "import numpy as np\n",
        "import httpimport\n",
        "import torch\n",
        "import torch.optim as optim\n",
        "from tqdm import tqdm_notebook\n",
        "\n",
        "# import data preprocessing and modeling functions from https://github.com/jasoriya/CS6120-PS2-support/tree/master/utils\n",
        "with httpimport.remote_repo(['data_vectorization','model','helper'], 'https://raw.githubusercontent.com/jasoriya/CS6120-PS2-support/master/utils/'):\n",
        "    from data_vectorization import Vocabulary, SequenceVocabulary, SurnameVectorizer, SurnameDataset, generate_batches\n",
        "    from model import SurnameGenerationModel, sample_from_model, decode_samples\n",
        "    from helper import make_train_state, update_train_state, normalize_sizes, compute_accuracy, sequence_loss, set_seed_everywhere, handle_dirs\n"
      ],
      "execution_count": 0,
      "outputs": []
    },
    {
      "cell_type": "code",
      "metadata": {
        "id": "7Nx4CbZNYApW",
        "colab_type": "code",
        "colab": {}
      },
      "source": [
        "rnn = [2,4,7,10,14,18]\n",
        "k = 0"
      ],
      "execution_count": 0,
      "outputs": []
    },
    {
      "cell_type": "markdown",
      "metadata": {
        "colab_type": "text",
        "id": "rwQ3H6hhhrhM"
      },
      "source": [
        "### Settings and some prep work\n",
        "\n",
        "**TODO**: \n",
        "- Give path to a directory where the model should be saved\n",
        "- Give hidden state size (`rnn_hidden_size`) for the GRU model (experiment with different levels)\n"
      ]
    },
    {
      "cell_type": "code",
      "metadata": {
        "colab_type": "code",
        "id": "B6ELbWoHhrhN",
        "colab": {},
        "outputId": "f944b412-0963-4b10-afcf-bcfbaf5c5232"
      },
      "source": [
        "args = Namespace(\n",
        "    # Data and Path information\n",
        "    surname_csv=\"https://raw.githubusercontent.com/jasoriya/CS6120-PS2-support/master/data/surnames/surnames_with_splits.csv\",\n",
        "    vectorizer_file=\"vectorizer.json\",\n",
        "    model_state_file=\"model.pth\",\n",
        "    save_dir= \"./model\", # give path here\n",
        "    # Model hyper parameters\n",
        "    char_embedding_size=32,\n",
        "    rnn_hidden_size= rnn[k], # give hidden size\n",
        "    # Training hyper parameters\n",
        "    seed=1337,\n",
        "    learning_rate=0.001,\n",
        "    batch_size=128,\n",
        "    num_epochs=100,\n",
        "    early_stopping_criteria=5,\n",
        "    # Runtime options\n",
        "    catch_keyboard_interrupt=True,\n",
        "    cuda=True,\n",
        "    expand_filepaths_to_save_dir=True,\n",
        "    reload_from_files=False,\n",
        ")\n",
        "\n",
        "if args.expand_filepaths_to_save_dir:\n",
        "    args.vectorizer_file = os.path.join(args.save_dir,\n",
        "                                        args.vectorizer_file)\n",
        "\n",
        "    args.model_state_file = os.path.join(args.save_dir,\n",
        "                                         args.model_state_file)\n",
        "    \n",
        "    print(\"Expanded filepaths: \")\n",
        "    print(\"\\t{}\".format(args.vectorizer_file))\n",
        "    print(\"\\t{}\".format(args.model_state_file))\n",
        "    \n",
        "    \n",
        "# Check CUDA\n",
        "if not torch.cuda.is_available():\n",
        "    args.cuda = False\n",
        "\n",
        "args.device = torch.device(\"cuda\" if args.cuda else \"cpu\")\n",
        "    \n",
        "print(\"Using CUDA: {}\".format(args.cuda))\n",
        "\n",
        "# Set seed for reproducibility\n",
        "set_seed_everywhere(args.seed, args.cuda)\n",
        "\n",
        "# handle dirs\n",
        "handle_dirs(args.save_dir)"
      ],
      "execution_count": 0,
      "outputs": [
        {
          "output_type": "stream",
          "text": [
            "Expanded filepaths: \n",
            "\t./model\\vectorizer.json\n",
            "\t./model\\model.pth\n",
            "Using CUDA: True\n"
          ],
          "name": "stdout"
        }
      ]
    },
    {
      "cell_type": "markdown",
      "metadata": {
        "colab_type": "text",
        "id": "eK7rHgKPhrhS"
      },
      "source": [
        "### Initializations"
      ]
    },
    {
      "cell_type": "code",
      "metadata": {
        "colab_type": "code",
        "id": "0zdUk04AhrhT",
        "colab": {},
        "outputId": "90b14f8b-4ed7-47af-9e24-b303f38d7063"
      },
      "source": [
        "# Data set load, create vectoizer and instantiate the model\n",
        "if args.reload_from_files:\n",
        "    # training from a checkpoint\n",
        "    dataset = SurnameDataset.load_dataset_and_load_vectorizer(args.surname_csv,\n",
        "                                                              args.vectorizer_file)\n",
        "else:\n",
        "    # create dataset and vectorizer\n",
        "    dataset = SurnameDataset.load_dataset_and_make_vectorizer(args.surname_csv)\n",
        "    dataset.save_vectorizer(args.vectorizer_file)\n",
        "\n",
        "vectorizer = dataset.get_vectorizer()\n",
        "print(\"vectorizer.char_vocab\",len(vectorizer.char_vocab))\n",
        "print(\"vectorizer.char_vocab.mask_index\", vectorizer.char_vocab.mask_index)\n",
        "model = SurnameGenerationModel(char_embedding_size=args.char_embedding_size,\n",
        "                               char_vocab_size=len(vectorizer.char_vocab),\n",
        "                               rnn_hidden_size=args.rnn_hidden_size,\n",
        "                               padding_idx=vectorizer.char_vocab.mask_index)"
      ],
      "execution_count": 0,
      "outputs": [
        {
          "output_type": "stream",
          "text": [
            "vectorizer.char_vocab 88\n",
            "vectorizer.char_vocab.mask_index 0\n"
          ],
          "name": "stdout"
        }
      ]
    },
    {
      "cell_type": "markdown",
      "metadata": {
        "colab_type": "text",
        "id": "Wy5dwODVhrhX"
      },
      "source": [
        "### Training loop"
      ]
    },
    {
      "cell_type": "code",
      "metadata": {
        "code_folding": [],
        "colab_type": "code",
        "id": "jIr6FBQWhrhY",
        "colab": {
          "referenced_widgets": [
            "cef929d668944ddf9b0bb35c309a3445",
            "b34f26c0e0c641a785649a8aded6c67e",
            "a93f3299a8e1437f9982d7c3ae0c3a7e"
          ]
        },
        "outputId": "dd76465c-5bc5-4c73-b266-4a075687e552"
      },
      "source": [
        "mask_index = vectorizer.char_vocab.mask_index\n",
        "\n",
        "model = model.to(args.device)\n",
        "\n",
        "\n",
        "optimizer = optim.Adam(model.parameters(), lr=args.learning_rate)\n",
        "\n",
        "# allows dynamic learning rate reducing based on some validation measurements. \n",
        "#optimizer (Optimizer) – Wrapped optimizer.\n",
        "#mode (str) – One of min, max. In min mode, lr will be reduced when the quantity monitored has stopped decreasing; in max mode it will be reduced when the quantity monitored has stopped increasing. Default: ‘min’.\n",
        "#factor (python:float) – Factor by which the learning rate will be reduced. new_lr = lr * factor. Default: 0.1.\n",
        "#patience (python:int) – Number of epochs with no improvement after which learning rate will be reduced. For example, if patience = 2, then we will ignore the first 2 epochs with no improvement, and will only decrease the LR after the 3rd epoch if the loss still hasn’t improved then. Default: 10.\n",
        "scheduler = optim.lr_scheduler.ReduceLROnPlateau(optimizer=optimizer,\n",
        "                                           mode='min', factor=0.5,\n",
        "                                           patience=1)\n",
        "\n",
        "# uses model_state_file and learning_rate from args.  \n",
        "#            {'stop_early': False,\n",
        "#             'early_stopping_step': 0,\n",
        "#             'early_stopping_best_val': 1e8,\n",
        "#             'learning_rate': args.learning_rate,\n",
        "#             'epoch_index': 0,\n",
        "#             'train_loss': [],\n",
        "#             'train_acc': [],\n",
        "#             'val_loss': [],\n",
        "#             'val_acc': [],\n",
        "#             'test_loss': -1,\n",
        "#             'test_acc': -1,\n",
        "#             'model_filename': args.model_state_file}\n",
        "train_state = make_train_state(args)\n",
        "\n",
        "\n",
        "epoch_bar = tqdm_notebook(desc='training routine', \n",
        "                          total=args.num_epochs,\n",
        "                          position=0)\n",
        "\n",
        "dataset.set_split('train')\n",
        "train_bar = tqdm_notebook(desc='split=train',\n",
        "                          total=dataset.get_num_batches(args.batch_size), \n",
        "                          position=1, \n",
        "                          leave=True)\n",
        "dataset.set_split('val')\n",
        "val_bar = tqdm_notebook(desc='split=val',\n",
        "                        total=dataset.get_num_batches(args.batch_size), \n",
        "                        position=1, \n",
        "                        leave=True)\n",
        "\n",
        "try:\n",
        "    for epoch_index in range(args.num_epochs):\n",
        "        train_state['epoch_index'] = epoch_index\n",
        "\n",
        "        # Iterate over training dataset\n",
        "\n",
        "        # setup: batch generator, set loss and acc to 0, set train mode on\n",
        "        dataset.set_split('train')\n",
        "        \n",
        "        # A generator function which wraps the PyTorch DataLoader. \n",
        "        batch_generator = generate_batches(dataset, \n",
        "                                           batch_size=args.batch_size, \n",
        "                                           device=args.device)\n",
        "        running_loss = 0.0\n",
        "        running_acc = 0.0\n",
        "        model.train()\n",
        "        \n",
        "        # This is for val set\n",
        "        for batch_index, batch_dict in enumerate(batch_generator):\n",
        "            # the training routine is these 5 steps:\n",
        "\n",
        "            # --------------------------------------    \n",
        "            # step 1. zero the gradients\n",
        "            optimizer.zero_grad()\n",
        "\n",
        "            # step 2. compute the output\n",
        "            y_pred = model(x_in=batch_dict['x_data'])\n",
        "\n",
        "            # step 3. compute the loss\n",
        "            loss = sequence_loss(y_pred, batch_dict['y_target'], mask_index)\n",
        "\n",
        "\n",
        "            # step 4. use loss to produce gradients\n",
        "            loss.backward()\n",
        "\n",
        "            # step 5. use optimizer to take gradient step\n",
        "            optimizer.step()\n",
        "            # -----------------------------------------\n",
        "            # compute the  running loss and running accuracy\n",
        "            running_loss += (loss.item() - running_loss) / (batch_index + 1)\n",
        "            acc_t = compute_accuracy(y_pred, batch_dict['y_target'], mask_index)\n",
        "            running_acc += (acc_t - running_acc) / (batch_index + 1)\n",
        "\n",
        "            # update bar\n",
        "            train_bar.set_postfix(loss=running_loss,\n",
        "                                  acc=running_acc,\n",
        "                                  epoch=epoch_index)\n",
        "            train_bar.update()\n",
        "            \n",
        "        train_state['train_loss'].append(running_loss)\n",
        "        train_state['train_acc'].append(running_acc)\n",
        "        \n",
        "        # Iterate over val dataset\n",
        "\n",
        "        # setup: batch generator, set loss and acc to 0; set eval mode on\n",
        "        dataset.set_split('val')\n",
        "        batch_generator = generate_batches(dataset, \n",
        "                                           batch_size=args.batch_size, \n",
        "                                           device=args.device)\n",
        "        running_loss = 0.\n",
        "        running_acc = 0.\n",
        "        model.eval()\n",
        "        \n",
        "        #This is val\n",
        "        for batch_index, batch_dict in enumerate(batch_generator):\n",
        "            # compute the output\n",
        "            y_pred = model(x_in=batch_dict['x_data'])\n",
        "\n",
        "            # step 3. compute the loss\n",
        "            loss = sequence_loss(y_pred, batch_dict['y_target'], mask_index)\n",
        "\n",
        "            # compute the  running loss and running accuracy\n",
        "            running_loss += (loss.item() - running_loss) / (batch_index + 1)\n",
        "            acc_t = compute_accuracy(y_pred, batch_dict['y_target'], mask_index)\n",
        "            running_acc += (acc_t - running_acc) / (batch_index + 1)\n",
        "            \n",
        "            # Update bar\n",
        "            val_bar.set_postfix(loss=running_loss, acc=running_acc, \n",
        "                            epoch=epoch_index)\n",
        "            val_bar.update()\n",
        "\n",
        "        train_state['val_loss'].append(running_loss)\n",
        "        train_state['val_acc'].append(running_acc)\n",
        "        \n",
        "        # at epoch 0, we save the first model and set 'early_stop' to false. Other epochs, it checks if loss of current is greater than\n",
        "        # loss of t-1 step. If true, it increments 'early_stop_step' by 1. Else, we check if current loss is less than 'early_stopping_best_val'\n",
        "        # If true, we save the model and update \"early_stopping_best_val\" to current loss. We reset the 'early_stop_step' to 0.\n",
        "        # If 'early_stop_step' is greater or equal to 'args.early_stopping_criteria' then we set 'early stop' to true.\n",
        "        train_state = update_train_state(args=args, model=model, \n",
        "                                         train_state=train_state)\n",
        "\n",
        "        scheduler.step(train_state['val_loss'][-1])\n",
        "\n",
        "        if train_state['stop_early']:\n",
        "            break\n",
        "        \n",
        "        # move model to cpu for sampling\n",
        "        model = model.cpu()\n",
        "        sampled_surnames = decode_samples(\n",
        "            sample_from_model(model, vectorizer, num_samples=2), \n",
        "            vectorizer)\n",
        "        epoch_bar.set_postfix(sample1=sampled_surnames[0], \n",
        "                              sample2=sampled_surnames[1])\n",
        "        # move model back to whichever device it should be on\n",
        "        model = model.to(args.device)\n",
        "        \n",
        "        train_bar.n = 0\n",
        "        val_bar.n = 0\n",
        "        epoch_bar.update()\n",
        "        \n",
        "except KeyboardInterrupt:\n",
        "    print(\"Exiting loop\")"
      ],
      "execution_count": 0,
      "outputs": [
        {
          "output_type": "stream",
          "text": [
            "C:\\Users\\pooja\\Anaconda3\\envs\\python36cudaPytorch\\lib\\site-packages\\ipykernel_launcher.py:35: TqdmDeprecationWarning: This function will be removed in tqdm==5.0.0\n",
            "Please use `tqdm.notebook.tqdm` instead of `tqdm.tqdm_notebook`\n"
          ],
          "name": "stderr"
        },
        {
          "output_type": "display_data",
          "data": {
            "application/vnd.jupyter.widget-view+json": {
              "model_id": "cef929d668944ddf9b0bb35c309a3445",
              "version_major": 2,
              "version_minor": 0
            },
            "text/plain": [
              "HBox(children=(FloatProgress(value=0.0, description='training routine', style=ProgressStyle(description_width=…"
            ]
          },
          "metadata": {
            "tags": []
          }
        },
        {
          "output_type": "stream",
          "text": [
            "C:\\Users\\pooja\\Anaconda3\\envs\\python36cudaPytorch\\lib\\site-packages\\ipykernel_launcher.py:41: TqdmDeprecationWarning: This function will be removed in tqdm==5.0.0\n",
            "Please use `tqdm.notebook.tqdm` instead of `tqdm.tqdm_notebook`\n"
          ],
          "name": "stderr"
        },
        {
          "output_type": "display_data",
          "data": {
            "application/vnd.jupyter.widget-view+json": {
              "model_id": "b34f26c0e0c641a785649a8aded6c67e",
              "version_major": 2,
              "version_minor": 0
            },
            "text/plain": [
              "HBox(children=(FloatProgress(value=0.0, description='split=train', max=60.0, style=ProgressStyle(description_w…"
            ]
          },
          "metadata": {
            "tags": []
          }
        },
        {
          "output_type": "stream",
          "text": [
            "C:\\Users\\pooja\\Anaconda3\\envs\\python36cudaPytorch\\lib\\site-packages\\ipykernel_launcher.py:46: TqdmDeprecationWarning: This function will be removed in tqdm==5.0.0\n",
            "Please use `tqdm.notebook.tqdm` instead of `tqdm.tqdm_notebook`\n"
          ],
          "name": "stderr"
        },
        {
          "output_type": "display_data",
          "data": {
            "application/vnd.jupyter.widget-view+json": {
              "model_id": "a93f3299a8e1437f9982d7c3ae0c3a7e",
              "version_major": 2,
              "version_minor": 0
            },
            "text/plain": [
              "HBox(children=(FloatProgress(value=0.0, description='split=val', max=12.0, style=ProgressStyle(description_wid…"
            ]
          },
          "metadata": {
            "tags": []
          }
        }
      ]
    },
    {
      "cell_type": "code",
      "metadata": {
        "colab_type": "code",
        "id": "T1pV10L3hrhc",
        "colab": {},
        "outputId": "5f59873d-88cf-41a4-d175-0b6245d43e84"
      },
      "source": [
        "np.random.choice(np.arange(len(vectorizer.nationality_vocab)), replace=True, size=2)"
      ],
      "execution_count": 0,
      "outputs": [
        {
          "output_type": "execute_result",
          "data": {
            "text/plain": [
              "array([8, 7])"
            ]
          },
          "metadata": {
            "tags": []
          },
          "execution_count": 60
        }
      ]
    },
    {
      "cell_type": "code",
      "metadata": {
        "colab_type": "code",
        "id": "crgnIUPghrhg",
        "colab": {}
      },
      "source": [
        "# compute the loss & accuracy on the test set using the best available model\n",
        "\n",
        "model.load_state_dict(torch.load(train_state['model_filename']))\n",
        "\n",
        "model = model.to(args.device)\n",
        "\n",
        "dataset.set_split('test')\n",
        "batch_generator = generate_batches(dataset, \n",
        "                                   batch_size=args.batch_size, \n",
        "                                   device=args.device)\n",
        "running_acc = 0.\n",
        "running_loss = 0.\n",
        "model.eval()\n",
        "\n",
        "for batch_index, batch_dict in enumerate(batch_generator):\n",
        "    # compute the output\n",
        "   \n",
        "    y_pred = model(x_in=batch_dict['x_data'])\n",
        "  #  print(\"x \",batch_dict['x_data'])\n",
        "#     if batch_index ==0:\n",
        "#         print(\"y shape\",y_pred.shape)\n",
        "#         print(\"x shape\",batch_dict['x_data'].shape)\n",
        "#         print(\"target shape\",batch_dict['y_target'].shape)\n",
        "    # compute the loss\n",
        "    loss = sequence_loss(y_pred, batch_dict['y_target'], mask_index)\n",
        "\n",
        "    # compute the accuracy\n",
        "    running_loss += (loss.item() - running_loss) / (batch_index + 1)\n",
        "\n",
        "    acc_t = compute_accuracy(y_pred, batch_dict['y_target'], mask_index)\n",
        "    running_acc += (acc_t - running_acc) / (batch_index + 1)\n",
        "\n",
        "train_state['test_loss'] = running_loss \n",
        "train_state['test_acc'] = running_acc \n",
        "#print(train_state['test_loss'])"
      ],
      "execution_count": 0,
      "outputs": []
    },
    {
      "cell_type": "markdown",
      "metadata": {
        "colab_type": "text",
        "id": "ldfJK8jBgbnT"
      },
      "source": [
        "**TODO**: Write code to compute the perplexity of the whole text corpus, the accuracy of a character-prediction task, and the perplexity at a given character position (1, 2, 3, ...)."
      ]
    },
    {
      "cell_type": "code",
      "metadata": {
        "colab_type": "code",
        "id": "yfzssGYjhrhj",
        "colab": {},
        "outputId": "0ad9ee2d-55d8-49f0-b27a-db1c86c3f195"
      },
      "source": [
        "print(\"Test loss: {};\".format(train_state['test_loss']))\n",
        "test_perplexity = 2**train_state['test_loss']\n",
        "print(\"Test perplexity: {};\".format(test_perplexity)) # compute and print perplexity here\n",
        "print(\"Test Accuracy: {}\".format(train_state['test_acc']))"
      ],
      "execution_count": 0,
      "outputs": [
        {
          "output_type": "stream",
          "text": [
            "Test loss: 2.6624450286229453;\n",
            "Test perplexity: 6.331051049742199;\n",
            "Test Accuracy: 22.837545954563577\n"
          ],
          "name": "stdout"
        }
      ]
    },
    {
      "cell_type": "code",
      "metadata": {
        "id": "JRsXkrenYApx",
        "colab_type": "code",
        "colab": {},
        "outputId": "8b641df0-0151-485f-a7a1-d100ac1d06ff"
      },
      "source": [
        "# perplexity of whole text corpus\n",
        "avg_perplexity = ((2**train_state['train_loss'][-1])+(2**train_state['val_loss'][-1])+test_perplexity)/3\n",
        "avg_perplexity"
      ],
      "execution_count": 0,
      "outputs": [
        {
          "output_type": "execute_result",
          "data": {
            "text/plain": [
              "6.321520440008357"
            ]
          },
          "metadata": {
            "tags": []
          },
          "execution_count": 63
        }
      ]
    },
    {
      "cell_type": "code",
      "metadata": {
        "id": "BAw3hSgzYAp0",
        "colab_type": "code",
        "colab": {}
      },
      "source": [
        "torch.save(model, args.save_dir+'/model'+str(k))\n",
        "k = k + 1\n"
      ],
      "execution_count": 0,
      "outputs": []
    },
    {
      "cell_type": "markdown",
      "metadata": {
        "id": "2l4pTmuRYAp2",
        "colab_type": "text"
      },
      "source": [
        "### Re run from 3rd cell\n"
      ]
    },
    {
      "cell_type": "code",
      "metadata": {
        "id": "qQVHG0TMYAp3",
        "colab_type": "code",
        "colab": {}
      },
      "source": [
        ""
      ],
      "execution_count": 0,
      "outputs": []
    },
    {
      "cell_type": "markdown",
      "metadata": {
        "colab_type": "text",
        "id": "2FCywMZ6hrhm"
      },
      "source": [
        "## Inference\n",
        "To see the names that the model generates:"
      ]
    },
    {
      "cell_type": "code",
      "metadata": {
        "colab_type": "code",
        "id": "jTbrH4dBhrho",
        "colab": {},
        "outputId": "cfe684b3-a8f2-4742-cf79-0d16de896f5e"
      },
      "source": [
        "# number of names to generate\n",
        "num_names = 10\n",
        "model = model.cpu()\n",
        "# Generate nationality hidden state\n",
        "sampled_surnames = decode_samples(\n",
        "    sample_from_model(model, vectorizer, num_samples=num_names), \n",
        "    vectorizer)\n",
        "# Show results\n",
        "print (\"-\"*15)\n",
        "for i in range(num_names):\n",
        "    print (sampled_surnames[i])"
      ],
      "execution_count": 0,
      "outputs": [
        {
          "output_type": "stream",
          "text": [
            "---------------\n",
            "Ancey\n",
            "Gasana\n",
            "Rimdelmue\n",
            "Daadorf\n",
            "Jaud\n",
            "San\n",
            "Jinnvanle\n",
            "Bkellalovsn\n",
            "Sabgsae\n",
            "Neim\n"
          ],
          "name": "stdout"
        }
      ]
    },
    {
      "cell_type": "markdown",
      "metadata": {
        "colab_type": "text",
        "id": "cjgqHfp7ggAj"
      },
      "source": [
        "**TODO**: Train the GRU model given above multiple times for different levels of `rnn_hidden_size`. For each of these models, plot the average perplexity as a function of the number of characters of the name observed so far. Explain your observations."
      ]
    },
    {
      "cell_type": "code",
      "metadata": {
        "id": "JYOCIa4IYAp_",
        "colab_type": "code",
        "colab": {}
      },
      "source": [
        "# calculating perplexity at each character\n",
        "# compute the loss & accuracy on the test set using the best available model\n",
        "allAvgPerplexities = []\n",
        "def calcAvgPerp(model):\n",
        "#     model.load_state_dict(torch.load(train_state['model_filename']))\n",
        "\n",
        "    model = model.to(args.device)\n",
        "\n",
        "    dataset.set_split('test')\n",
        "    batch_generator = generate_batches(dataset, \n",
        "                                       batch_size=1, \n",
        "                                       device=args.device)\n",
        "    running_acc = 0.\n",
        "    running_loss = 0.\n",
        "    model.eval()\n",
        "    perplexityForTest = []\n",
        "    for batch_index, batch_dict in enumerate(batch_generator):\n",
        "        # compute the output\n",
        "        x_char_data = torch.zeros(1,19, dtype=torch.int64)\n",
        "        y_char_target = torch.zeros(1,19, dtype=torch.int64)\n",
        "        #print(batch_dict['x_data'])\n",
        "        perplexityList = []\n",
        "        for i in range(19):\n",
        "            x_char_data[0][i] = batch_dict['x_data'][0][i]\n",
        "            y_char_target[0][i] = batch_dict['y_target'][0][i]\n",
        "            #print(x_char_data)\n",
        "            y_char_pred = model(x_in=x_char_data.cuda())\n",
        "            #print(y_char_pred.shape)\n",
        "\n",
        "            #compute the loss\n",
        "            loss = sequence_loss(y_char_pred, y_char_target.cuda(), mask_index)\n",
        "            #compute the accuracy\n",
        "           # running_loss += (loss.item() - running_loss) / (batch_index + 1)\n",
        "\n",
        "            acc_t = compute_accuracy(y_char_pred, y_char_target.cuda(), mask_index)\n",
        "\n",
        "           # print(\"running loss\",running_loss)\n",
        "            perp = (2** loss.item())\n",
        "            perplexityList.append(perp)\n",
        "       # print(\"perp list\", len(perplexityList))\n",
        "        perplexityForTest.append(perplexityList)\n",
        "    np_array = np.array(perplexityForTest)\n",
        "    lenOfTest =  len(perplexityForTest)\n",
        "    avg_char_perp = np.sum(np_array, axis = 0)/lenOfTest\n",
        "    print(avg_char_perp)\n",
        "    allAvgPerplexities.append(avg_char_perp)\n",
        "    #print(perplexityForTest)"
      ],
      "execution_count": 0,
      "outputs": []
    },
    {
      "cell_type": "code",
      "metadata": {
        "id": "7PKIyHp0YAqB",
        "colab_type": "code",
        "colab": {},
        "outputId": "8f42931a-5c02-470f-c5a4-770f3cab26a8"
      },
      "source": [
        "for i in range(0,6):\n",
        "    string = args.save_dir+'/model'+str(i)\n",
        "    print(string)\n",
        "    saved_model = torch.load(string)\n",
        "    saved_model.eval()\n",
        "    calcAvgPerp(saved_model)"
      ],
      "execution_count": 0,
      "outputs": [
        {
          "output_type": "stream",
          "text": [
            "./model/model0\n",
            "[17.37272405 11.82713449 11.10412584 10.56842598 10.08135855  9.72933657\n",
            "  9.38303612  9.12002692  8.98881544  8.94029818  8.86472873  8.88902497\n",
            "  8.87279712  8.85019467  8.81162542  8.87470885  8.84900886  8.87423956\n",
            "  8.80123374]\n",
            "./model/model1\n",
            "[14.42983426  8.80957217  9.01418106  8.99673882  8.71063011  8.55357791\n",
            "  8.25776338  8.08069232  7.99572939  7.89556938  7.88562288  7.80609977\n",
            "  7.78572896  7.86541779  7.83131112  7.80594427  7.8247896   7.80978994\n",
            "  7.85694064]\n",
            "./model/model2\n",
            "[12.87730763  8.2470531   8.29445014  8.38392222  8.1492791   7.91395378\n",
            "  7.66591839  7.56046276  7.41340039  7.39547518  7.27722948  7.28253906\n",
            "  7.31742439  7.31248167  7.31837174  7.25286666  7.27719746  7.28065195\n",
            "  7.2523654 ]\n",
            "./model/model3\n",
            "[11.8139368   8.04233122  8.01448902  8.1556963   7.95100471  7.78099624\n",
            "  7.55656773  7.3952591   7.29863362  7.193674    7.13193612  7.1378391\n",
            "  7.12997893  7.13304569  7.09690604  7.16591717  7.1242898   7.12228644\n",
            "  7.17058314]\n",
            "./model/model4\n",
            "[16.80143253  7.89391425  8.00411618  7.97844604  7.74272636  7.59267366\n",
            "  7.3317338   7.17127887  7.12003436  6.99836746  6.9212682   6.89403206\n",
            "  6.90154236  6.88936037  6.91254147  6.87505803  6.87840779  6.91177577\n",
            "  6.90292854]\n",
            "./model/model5\n",
            "[12.26759777  8.04637722  7.44128227  7.46274949  7.32353159  7.18721897\n",
            "  7.03329622  6.80270103  6.68943755  6.57634068  6.51953157  6.52110644\n",
            "  6.54274253  6.5159121   6.49439581  6.47281067  6.55903167  6.50512572\n",
            "  6.52326298]\n"
          ],
          "name": "stdout"
        }
      ]
    },
    {
      "cell_type": "code",
      "metadata": {
        "id": "uKS25IhSYAqE",
        "colab_type": "code",
        "colab": {}
      },
      "source": [
        ""
      ],
      "execution_count": 0,
      "outputs": []
    },
    {
      "cell_type": "code",
      "metadata": {
        "id": "UYdoV8frYAqG",
        "colab_type": "code",
        "colab": {}
      },
      "source": [
        "# Your plotting code here\n",
        "import matplotlib\n",
        "import matplotlib.pyplot as plt\n",
        "\n",
        "chars = np.arange(1,20)"
      ],
      "execution_count": 0,
      "outputs": []
    },
    {
      "cell_type": "code",
      "metadata": {
        "id": "7bfWcBprYAqI",
        "colab_type": "code",
        "colab": {},
        "outputId": "591a91aa-b7f7-4a7b-e575-0e1f6af2a3d0"
      },
      "source": [
        "i = 0\n",
        "plt.xlabel('characters (x)')\n",
        "plt.ylabel('perplexity (y)')\n",
        "plt.title('Plot for RNN size')\n",
        "#print(len(allAvgPerplexities))\n",
        "for avg_char_perp in allAvgPerplexities:\n",
        "    plt.plot(chars,avg_char_perp, label = 'rnn_hidden_size '+str(rnn[i]))\n",
        "    i +=1\n",
        "    \n",
        "plt.grid()\n",
        "plt.xticks(np.arange(min(chars), max(chars)+1))\n",
        "plt.legend()\n",
        "plt.savefig(\"test_size_final.png\")\n",
        "plt.show()"
      ],
      "execution_count": 0,
      "outputs": [
        {
          "output_type": "display_data",
          "data": {
            "image/png": "[encoded data removed]",
            "text/plain": [
              "<Figure size 432x288 with 1 Axes>"
            ]
          },
          "metadata": {
            "tags": [],
            "needs_background": "light"
          }
        }
      ]
    },
    {
      "cell_type": "markdown",
      "metadata": {
        "id": "dViYe3JqYAqM",
        "colab_type": "text"
      },
      "source": [
        "##### Explanation\n"
      ]
    },
    {
      "cell_type": "markdown",
      "metadata": {
        "id": "xeZkuep9YAqN",
        "colab_type": "text"
      },
      "source": [
        "Rnn hidden sizes (2, 4, 7, 10, 14, 18)\n",
        "1. As RNN hidden size increases, perplexity decreases. As seen in the plot, for rnn_hidden_size 18, the perplexity is the least compared to rnn hidden size 2 or 4. As the rnn hidden size increases more information is learnt. This reduces the randomness in predicting next character.\n",
        "\n",
        "2. As we see more characters, perplexity decreases. For character at position 1 has more perplexity compared to character at 5 or 6. For example, for surname \"Shanbhag\" to predict 'S' has more perplexity compared to perplexity at 'b'. When predicting 'b', we would have seen more previous characters than of 'S'. So the randomness in predicting 'b' is lesser to that of 'S'. \n"
      ]
    },
    {
      "cell_type": "code",
      "metadata": {
        "id": "xVNljiJyYAqN",
        "colab_type": "code",
        "colab": {}
      },
      "source": [
        ""
      ],
      "execution_count": 0,
      "outputs": []
    },
    {
      "cell_type": "code",
      "metadata": {
        "id": "z2jFEZ5BYAqP",
        "colab_type": "code",
        "colab": {}
      },
      "source": [
        ""
      ],
      "execution_count": 0,
      "outputs": []
    },
    {
      "cell_type": "code",
      "metadata": {
        "id": "uf0QYHmzYAqR",
        "colab_type": "code",
        "colab": {}
      },
      "source": [
        "# fig, ax = plt.subplots()\n",
        "# ax.plot(chars,avg_char_perp)\n",
        "# ax.set(xlabel='characters (x)', ylabel='perplexity (y)',\n",
        "#        title='Plot for RNN size 2')\n",
        "# ax.grid()\n",
        "# plt.xticks(np.arange(min(chars), max(chars)))\n",
        "# fig.savefig(\"test_size2.png\")\n",
        "# plt.show()"
      ],
      "execution_count": 0,
      "outputs": []
    },
    {
      "cell_type": "code",
      "metadata": {
        "id": "lm-gWMx2YAqT",
        "colab_type": "code",
        "colab": {}
      },
      "source": [
        "# fig, ax = plt.subplots()\n",
        "# ax.plot(chars,avg_char_perp)\n",
        "# ax.set(xlabel='characters (x)', ylabel='perplexity (y)',\n",
        "#        title='Plot for RNN size 4')\n",
        "# ax.grid()\n",
        "# plt.xticks(np.arange(min(chars), max(chars)))\n",
        "# fig.savefig(\"test_size4.png\")\n",
        "# plt.show()"
      ],
      "execution_count": 0,
      "outputs": []
    },
    {
      "cell_type": "code",
      "metadata": {
        "id": "W3l35BVXYAqV",
        "colab_type": "code",
        "colab": {}
      },
      "source": [
        "# fig, ax = plt.subplots()\n",
        "# ax.plot(chars,avg_char_perp)\n",
        "# ax.set(xlabel='characters (x)', ylabel='perplexity (y)',\n",
        "#        title='Plot for RNN size 7')\n",
        "# ax.grid()\n",
        "# plt.xticks(np.arange(min(chars), max(chars)))\n",
        "# fig.savefig(\"test_size7.png\")\n",
        "# plt.show()"
      ],
      "execution_count": 0,
      "outputs": []
    },
    {
      "cell_type": "code",
      "metadata": {
        "id": "I9_va6MpYAqX",
        "colab_type": "code",
        "colab": {}
      },
      "source": [
        "# fig, ax = plt.subplots()\n",
        "# ax.plot(chars,avg_char_perp)\n",
        "# ax.set(xlabel='characters (x)', ylabel='perplexity (y)',\n",
        "#        title='Plot for RNN size 10')\n",
        "# ax.grid()\n",
        "# plt.xticks(np.arange(min(chars), max(chars)))\n",
        "# fig.savefig(\"test_size10.png\")\n",
        "# plt.show()"
      ],
      "execution_count": 0,
      "outputs": []
    },
    {
      "cell_type": "code",
      "metadata": {
        "colab_type": "code",
        "id": "gsKEX4ylUUFP",
        "colab": {}
      },
      "source": [
        "# fig, ax = plt.subplots()\n",
        "# ax.plot(chars,avg_char_perp)\n",
        "\n",
        "# ax.set(xlabel='characters (x)', ylabel='perplexity (y)',\n",
        "#        title='Plot for RNN size 14')\n",
        "# ax.grid()\n",
        "# plt.xticks(np.arange(min(chars), max(chars)))\n",
        "# fig.savefig(\"test_size14.png\")\n",
        "# plt.show()"
      ],
      "execution_count": 0,
      "outputs": []
    },
    {
      "cell_type": "code",
      "metadata": {
        "id": "-mLnQpScYAqb",
        "colab_type": "code",
        "colab": {}
      },
      "source": [
        "# fig, ax = plt.subplots()\n",
        "# ax.plot(chars,avg_char_perp)\n",
        "# ax.set(xlabel='characters (x)', ylabel='perplexity (y)',\n",
        "#        title='Plot for RNN size 18')\n",
        "# ax.grid()\n",
        "# plt.xticks(np.arange(min(chars), max(chars)))\n",
        "# fig.savefig(\"test_size18.png\")\n",
        "# plt.show()"
      ],
      "execution_count": 0,
      "outputs": []
    },
    {
      "cell_type": "code",
      "metadata": {
        "id": "p2d70UeOYAqd",
        "colab_type": "code",
        "colab": {}
      },
      "source": [
        ""
      ],
      "execution_count": 0,
      "outputs": []
    }
  ]
}