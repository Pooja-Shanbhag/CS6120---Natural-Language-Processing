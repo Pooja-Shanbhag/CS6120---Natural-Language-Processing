{
  "nbformat": 4,
  "nbformat_minor": 0,
  "metadata": {
    "accelerator": "GPU",
    "colab": {
      "name": "ner_decoder.ipynb",
      "provenance": [],
      "collapsed_sections": [],
      "include_colab_link": true
    },
    "kernelspec": {
      "display_name": "Python 3",
      "language": "python",
      "name": "python3"
    },
    "language_info": {
      "codemirror_mode": {
        "name": "ipython",
        "version": 3
      },
      "file_extension": ".py",
      "mimetype": "text/x-python",
      "name": "python",
      "nbconvert_exporter": "python",
      "pygments_lexer": "ipython3",
      "version": "3.6.9"
    }
  },
  "cells": [
    {
      "cell_type": "markdown",
      "metadata": {
        "id": "view-in-github",
        "colab_type": "text"
      },
      "source": [
        "<a href=\"https://colab.research.google.com/github/NULabTMN/ps3-PoojaKShanbhag/blob/master/ner_decoder.ipynb\" target=\"_parent\"><img src=\"https://colab.research.google.com/assets/colab-badge.svg\" alt=\"Open In Colab\"/></a>"
      ]
    },
    {
      "cell_type": "markdown",
      "metadata": {
        "colab_type": "text",
        "id": "IsY0LJOIT_cG"
      },
      "source": [
        "# Implementing a Viterbi Decoder and Evaluation for Sequence Labeling\n",
        "\n",
        "In this assignment, you will build a Viterbi decoder for an LSTM named-entity recognition model. As we mentioned in class, recurrent and bidirectional recurrent neural networks, of which LSTMs are the most common examples, can be used to perform sequence labeling. Although these models encode information from the surrounding words in order to make predictions, there are no \"hard\" constraints on what tags can appear where.\n",
        "\n",
        "There hard constraints are particularly important for tasks that label spans of more than one token. The most common example of a span-labeling task is named-entity recognition (NER). As described in Eisenstein, Jurafksy & Martin, and other texts, the goal of NER is to label spans of one or more words as _mentions_ of an _entity_, such as a person, location, organization, etc.\n",
        "\n",
        "The most common approach to NER is to reduce it to a sequence-labeling task, where each token in the input is labeled either with an `O`, if it is \"outside\" any named-entity span, or with `B-TYPE`, if it is the first token in an entity of type `TYPE`, or with `I-TYPE`, if it is the second or later token in an entity of type `TYPE`. Distinguishing between the first and later tokens of an entity allow us to identify distinct entity spans even when they are adjacent.\n",
        "\n",
        "Common values of `TYPE` include `PER` for person, `LOC` for location, `DATE` for date, and so on. In the dataset we load below, there are 17 distinct types.\n",
        "\n",
        "The span-labeling scheme just described implies that the labels on tokens must obey certain constraints: the tag `I-PER` must follow either `B-PER` or another `I-PER`. I cannot follow `O`, `B-LOC`, or `I-LOC`, i.e., a tag for a different entity type. By themselves, LSTMs or bidirectional LSTMs cannot directly enforce these constraints. This is one reason why conditional random fields (CRFs), which _can_ enforce these constraints, are often layered on top of these recurrent models.\n",
        "\n",
        "In this assignment, you will implement the simplest possible CRF: a CRF so simple that it does not require any training. Rather, it will assign weight 1 to any sequence of tags that obeys the constraints and weight 0 to any sequence of tags that violates them. The inputs to the CRF, which are analogous to the emission probabilities in an HMM, will come from an LSTM.\n",
        "\n",
        "But first, in order to test your decoder, you will also implement some functions to evaluate the output of an NER system according to two metrics:\n",
        "1. You will count the number of _violations_ of the NER label constraints, i.e., how many times `I-TYPE` follows `O` or a tag of a different type. This number will be greater than 0 in the raw LSTM output, but should be 0 for your CRF output.\n",
        "1. You will compute the _span-level_ precision, recall, and F1 of NER output. Although the baseline LSTM was trained to achieve high _token-level_ accuracy, this metric can be misleadingly high, since so many tokens are correctly labeled `O`. In other words, what proportion of spans predicted by the model line up exactly with spans in the gold standard, and what proportion of spans in the gold standard were predicted by the model? For more, see the original task definition: https://www.aclweb.org/anthology/W03-0419/.\n",
        "\n",
        "We start with loading some code and data and the describe your tasks in more detail."
      ]
    },
    {
      "cell_type": "markdown",
      "metadata": {
        "colab_type": "text",
        "id": "Dhnn49QEU_Ik"
      },
      "source": [
        "## Set Up Dependencies and Definitions"
      ]
    },
    {
      "cell_type": "code",
      "metadata": {
        "colab_type": "code",
        "id": "QJINX1MwOLBT",
        "outputId": "be2b5135-de9f-4833-c9ed-c0cd7606bf91",
        "colab": {
          "base_uri": "https://localhost:8080/",
          "height": 1000
        }
      },
      "source": [
        "!pip install --upgrade spacy allennlp\n",
        "import spacy\n",
        "print(spacy.__version__)"
      ],
      "execution_count": 0,
      "outputs": [
        {
          "output_type": "stream",
          "text": [
            "Requirement already up-to-date: spacy in c:\\users\\pooja\\anaconda3\\envs\\python36cudapytorch\\lib\\site-packages (2.2.4)\n",
            "Requirement already up-to-date: allennlp in c:\\users\\pooja\\anaconda3\\envs\\python36cudapytorch\\lib\\site-packages (0.9.0)\n",
            "Requirement already satisfied, skipping upgrade: cymem<2.1.0,>=2.0.2 in c:\\users\\pooja\\anaconda3\\envs\\python36cudapytorch\\lib\\site-packages (from spacy) (2.0.3)\n",
            "Requirement already satisfied, skipping upgrade: thinc==7.4.0 in c:\\users\\pooja\\anaconda3\\envs\\python36cudapytorch\\lib\\site-packages (from spacy) (7.4.0)\n",
            "Requirement already satisfied, skipping upgrade: srsly<1.1.0,>=1.0.2 in c:\\users\\pooja\\anaconda3\\envs\\python36cudapytorch\\lib\\site-packages (from spacy) (1.0.2)\n",
            "Requirement already satisfied, skipping upgrade: requests<3.0.0,>=2.13.0 in c:\\users\\pooja\\anaconda3\\envs\\python36cudapytorch\\lib\\site-packages (from spacy) (2.22.0)\n",
            "Requirement already satisfied, skipping upgrade: murmurhash<1.1.0,>=0.28.0 in c:\\users\\pooja\\anaconda3\\envs\\python36cudapytorch\\lib\\site-packages (from spacy) (1.0.2)\n",
            "Requirement already satisfied, skipping upgrade: blis<0.5.0,>=0.4.0 in c:\\users\\pooja\\anaconda3\\envs\\python36cudapytorch\\lib\\site-packages (from spacy) (0.4.1)\n",
            "Requirement already satisfied, skipping upgrade: plac<1.2.0,>=0.9.6 in c:\\users\\pooja\\anaconda3\\envs\\python36cudapytorch\\lib\\site-packages (from spacy) (1.1.3)\n",
            "Requirement already satisfied, skipping upgrade: setuptools in c:\\users\\pooja\\anaconda3\\envs\\python36cudapytorch\\lib\\site-packages (from spacy) (41.6.0.post20191030)\n",
            "Requirement already satisfied, skipping upgrade: wasabi<1.1.0,>=0.4.0 in c:\\users\\pooja\\anaconda3\\envs\\python36cudapytorch\\lib\\site-packages (from spacy) (0.6.0)\n",
            "Requirement already satisfied, skipping upgrade: numpy>=1.15.0 in c:\\users\\pooja\\anaconda3\\envs\\python36cudapytorch\\lib\\site-packages (from spacy) (1.17.4)\n",
            "Requirement already satisfied, skipping upgrade: tqdm<5.0.0,>=4.38.0 in c:\\users\\pooja\\anaconda3\\envs\\python36cudapytorch\\lib\\site-packages (from spacy) (4.43.0)\n",
            "Requirement already satisfied, skipping upgrade: preshed<3.1.0,>=3.0.2 in c:\\users\\pooja\\anaconda3\\envs\\python36cudapytorch\\lib\\site-packages (from spacy) (3.0.2)\n",
            "Requirement already satisfied, skipping upgrade: catalogue<1.1.0,>=0.0.7 in c:\\users\\pooja\\anaconda3\\envs\\python36cudapytorch\\lib\\site-packages (from spacy) (1.0.0)\n",
            "Requirement already satisfied, skipping upgrade: nltk in c:\\users\\pooja\\anaconda3\\envs\\python36cudapytorch\\lib\\site-packages (from allennlp) (3.4.5)\n",
            "Requirement already satisfied, skipping upgrade: flask>=1.0.2 in c:\\users\\pooja\\anaconda3\\envs\\python36cudapytorch\\lib\\site-packages (from allennlp) (1.1.1)\n",
            "Requirement already satisfied, skipping upgrade: tensorboardX>=1.2 in c:\\users\\pooja\\anaconda3\\envs\\python36cudapytorch\\lib\\site-packages (from allennlp) (1.9)\n",
            "Requirement already satisfied, skipping upgrade: pytz>=2017.3 in c:\\users\\pooja\\anaconda3\\envs\\python36cudapytorch\\lib\\site-packages (from allennlp) (2019.3)\n",
            "Requirement already satisfied, skipping upgrade: sqlparse>=0.2.4 in c:\\users\\pooja\\anaconda3\\envs\\python36cudapytorch\\lib\\site-packages (from allennlp) (0.3.1)\n",
            "Requirement already satisfied, skipping upgrade: numpydoc>=0.8.0 in c:\\users\\pooja\\anaconda3\\envs\\python36cudapytorch\\lib\\site-packages (from allennlp) (0.9.2)\n",
            "Requirement already satisfied, skipping upgrade: pytorch-transformers==1.1.0 in c:\\users\\pooja\\anaconda3\\envs\\python36cudapytorch\\lib\\site-packages (from allennlp) (1.1.0)\n",
            "Requirement already satisfied, skipping upgrade: boto3 in c:\\users\\pooja\\anaconda3\\envs\\python36cudapytorch\\lib\\site-packages (from allennlp) (1.12.31)\n",
            "Requirement already satisfied, skipping upgrade: parsimonious>=0.8.0 in c:\\users\\pooja\\anaconda3\\envs\\python36cudapytorch\\lib\\site-packages (from allennlp) (0.8.1)\n",
            "Requirement already satisfied, skipping upgrade: word2number>=1.1 in c:\\users\\pooja\\anaconda3\\envs\\python36cudapytorch\\lib\\site-packages (from allennlp) (1.1)\n",
            "Requirement already satisfied, skipping upgrade: overrides in c:\\users\\pooja\\anaconda3\\envs\\python36cudapytorch\\lib\\site-packages (from allennlp) (2.8.0)\n",
            "Requirement already satisfied, skipping upgrade: conllu==1.3.1 in c:\\users\\pooja\\anaconda3\\envs\\python36cudapytorch\\lib\\site-packages (from allennlp) (1.3.1)\n",
            "Requirement already satisfied, skipping upgrade: h5py in c:\\users\\pooja\\anaconda3\\envs\\python36cudapytorch\\lib\\site-packages (from allennlp) (2.10.0)\n",
            "Requirement already satisfied, skipping upgrade: unidecode in c:\\users\\pooja\\anaconda3\\envs\\python36cudapytorch\\lib\\site-packages (from allennlp) (1.1.1)\n",
            "Requirement already satisfied, skipping upgrade: jsonpickle in c:\\users\\pooja\\anaconda3\\envs\\python36cudapytorch\\lib\\site-packages (from allennlp) (1.3)\n",
            "Requirement already satisfied, skipping upgrade: editdistance in c:\\users\\pooja\\anaconda3\\envs\\python36cudapytorch\\lib\\site-packages (from allennlp) (0.5.3)\n",
            "Requirement already satisfied, skipping upgrade: flask-cors>=3.0.7 in c:\\users\\pooja\\anaconda3\\envs\\python36cudapytorch\\lib\\site-packages (from allennlp) (3.0.8)\n",
            "Requirement already satisfied, skipping upgrade: scipy in c:\\users\\pooja\\anaconda3\\envs\\python36cudapytorch\\lib\\site-packages (from allennlp) (1.4.1)\n",
            "Requirement already satisfied, skipping upgrade: torch>=1.2.0 in c:\\users\\pooja\\anaconda3\\envs\\python36cudapytorch\\lib\\site-packages (from allennlp) (1.3.1)\n",
            "Requirement already satisfied, skipping upgrade: flaky in c:\\users\\pooja\\anaconda3\\envs\\python36cudapytorch\\lib\\site-packages (from allennlp) (3.6.1)\n",
            "Requirement already satisfied, skipping upgrade: gevent>=1.3.6 in c:\\users\\pooja\\anaconda3\\envs\\python36cudapytorch\\lib\\site-packages (from allennlp) (1.4.0)\n",
            "Requirement already satisfied, skipping upgrade: pytest in c:\\users\\pooja\\anaconda3\\envs\\python36cudapytorch\\lib\\site-packages (from allennlp) (5.4.1)\n",
            "Requirement already satisfied, skipping upgrade: ftfy in c:\\users\\pooja\\anaconda3\\envs\\python36cudapytorch\\lib\\site-packages (from allennlp) (5.7)\n",
            "Requirement already satisfied, skipping upgrade: pytorch-pretrained-bert>=0.6.0 in c:\\users\\pooja\\anaconda3\\envs\\python36cudapytorch\\lib\\site-packages (from allennlp) (0.6.2)\n",
            "Requirement already satisfied, skipping upgrade: matplotlib>=2.2.3 in c:\\users\\pooja\\anaconda3\\envs\\python36cudapytorch\\lib\\site-packages (from allennlp) (3.1.2)\n",
            "Requirement already satisfied, skipping upgrade: scikit-learn in c:\\users\\pooja\\anaconda3\\envs\\python36cudapytorch\\lib\\site-packages (from allennlp) (0.22.1)\n",
            "Requirement already satisfied, skipping upgrade: responses>=0.7 in c:\\users\\pooja\\anaconda3\\envs\\python36cudapytorch\\lib\\site-packages (from allennlp) (0.10.12)\n",
            "Requirement already satisfied, skipping upgrade: certifi>=2017.4.17 in c:\\users\\pooja\\anaconda3\\envs\\python36cudapytorch\\lib\\site-packages (from requests<3.0.0,>=2.13.0->spacy) (2019.9.11)\n",
            "Requirement already satisfied, skipping upgrade: chardet<3.1.0,>=3.0.2 in c:\\users\\pooja\\anaconda3\\envs\\python36cudapytorch\\lib\\site-packages (from requests<3.0.0,>=2.13.0->spacy) (3.0.4)\n",
            "Requirement already satisfied, skipping upgrade: idna<2.9,>=2.5 in c:\\users\\pooja\\anaconda3\\envs\\python36cudapytorch\\lib\\site-packages (from requests<3.0.0,>=2.13.0->spacy) (2.8)\n",
            "Requirement already satisfied, skipping upgrade: urllib3!=1.25.0,!=1.25.1,<1.26,>=1.21.1 in c:\\users\\pooja\\anaconda3\\envs\\python36cudapytorch\\lib\\site-packages (from requests<3.0.0,>=2.13.0->spacy) (1.25.8)\n",
            "Requirement already satisfied, skipping upgrade: importlib-metadata>=0.20; python_version < \"3.8\" in c:\\users\\pooja\\anaconda3\\envs\\python36cudapytorch\\lib\\site-packages (from catalogue<1.1.0,>=0.0.7->spacy) (0.23)\n",
            "Requirement already satisfied, skipping upgrade: six in c:\\users\\pooja\\anaconda3\\envs\\python36cudapytorch\\lib\\site-packages (from nltk->allennlp) (1.13.0)\n",
            "Requirement already satisfied, skipping upgrade: click>=5.1 in c:\\users\\pooja\\anaconda3\\envs\\python36cudapytorch\\lib\\site-packages (from flask>=1.0.2->allennlp) (7.1.1)\n",
            "Requirement already satisfied, skipping upgrade: Werkzeug>=0.15 in c:\\users\\pooja\\anaconda3\\envs\\python36cudapytorch\\lib\\site-packages (from flask>=1.0.2->allennlp) (0.16.0)\n",
            "Requirement already satisfied, skipping upgrade: Jinja2>=2.10.1 in c:\\users\\pooja\\anaconda3\\envs\\python36cudapytorch\\lib\\site-packages (from flask>=1.0.2->allennlp) (2.10.3)\n",
            "Requirement already satisfied, skipping upgrade: itsdangerous>=0.24 in c:\\users\\pooja\\anaconda3\\envs\\python36cudapytorch\\lib\\site-packages (from flask>=1.0.2->allennlp) (1.1.0)\n",
            "Requirement already satisfied, skipping upgrade: protobuf>=3.8.0 in c:\\users\\pooja\\anaconda3\\envs\\python36cudapytorch\\lib\\site-packages (from tensorboardX>=1.2->allennlp) (3.10.1)\n",
            "Requirement already satisfied, skipping upgrade: sphinx>=1.6.5 in c:\\users\\pooja\\anaconda3\\envs\\python36cudapytorch\\lib\\site-packages (from numpydoc>=0.8.0->allennlp) (2.4.4)\n",
            "Requirement already satisfied, skipping upgrade: regex in c:\\users\\pooja\\anaconda3\\envs\\python36cudapytorch\\lib\\site-packages (from pytorch-transformers==1.1.0->allennlp) (2020.2.20)\n",
            "Requirement already satisfied, skipping upgrade: sentencepiece in c:\\users\\pooja\\anaconda3\\envs\\python36cudapytorch\\lib\\site-packages (from pytorch-transformers==1.1.0->allennlp) (0.1.85)\n",
            "Requirement already satisfied, skipping upgrade: s3transfer<0.4.0,>=0.3.0 in c:\\users\\pooja\\anaconda3\\envs\\python36cudapytorch\\lib\\site-packages (from boto3->allennlp) (0.3.3)\n",
            "Requirement already satisfied, skipping upgrade: botocore<1.16.0,>=1.15.31 in c:\\users\\pooja\\anaconda3\\envs\\python36cudapytorch\\lib\\site-packages (from boto3->allennlp) (1.15.31)\n",
            "Requirement already satisfied, skipping upgrade: jmespath<1.0.0,>=0.7.1 in c:\\users\\pooja\\anaconda3\\envs\\python36cudapytorch\\lib\\site-packages (from boto3->allennlp) (0.9.5)\n",
            "Requirement already satisfied, skipping upgrade: cffi>=1.11.5; sys_platform == \"win32\" and platform_python_implementation == \"CPython\" in c:\\users\\pooja\\anaconda3\\envs\\python36cudapytorch\\lib\\site-packages (from gevent>=1.3.6->allennlp) (1.13.1)\n",
            "Requirement already satisfied, skipping upgrade: greenlet>=0.4.14; platform_python_implementation == \"CPython\" in c:\\users\\pooja\\anaconda3\\envs\\python36cudapytorch\\lib\\site-packages (from gevent>=1.3.6->allennlp) (0.4.15)\n",
            "Requirement already satisfied, skipping upgrade: more-itertools>=4.0.0 in c:\\users\\pooja\\anaconda3\\envs\\python36cudapytorch\\lib\\site-packages (from pytest->allennlp) (7.2.0)\n",
            "Requirement already satisfied, skipping upgrade: py>=1.5.0 in c:\\users\\pooja\\anaconda3\\envs\\python36cudapytorch\\lib\\site-packages (from pytest->allennlp) (1.8.1)\n",
            "Requirement already satisfied, skipping upgrade: atomicwrites>=1.0; sys_platform == \"win32\" in c:\\users\\pooja\\anaconda3\\envs\\python36cudapytorch\\lib\\site-packages (from pytest->allennlp) (1.3.0)\n",
            "Requirement already satisfied, skipping upgrade: wcwidth in c:\\users\\pooja\\anaconda3\\envs\\python36cudapytorch\\lib\\site-packages (from pytest->allennlp) (0.1.7)\n",
            "Requirement already satisfied, skipping upgrade: packaging in c:\\users\\pooja\\anaconda3\\envs\\python36cudapytorch\\lib\\site-packages (from pytest->allennlp) (20.3)\n",
            "Requirement already satisfied, skipping upgrade: attrs>=17.4.0 in c:\\users\\pooja\\anaconda3\\envs\\python36cudapytorch\\lib\\site-packages (from pytest->allennlp) (19.3.0)\n",
            "Requirement already satisfied, skipping upgrade: pluggy<1.0,>=0.12 in c:\\users\\pooja\\anaconda3\\envs\\python36cudapytorch\\lib\\site-packages (from pytest->allennlp) (0.13.1)\n",
            "Requirement already satisfied, skipping upgrade: colorama; sys_platform == \"win32\" in c:\\users\\pooja\\anaconda3\\envs\\python36cudapytorch\\lib\\site-packages (from pytest->allennlp) (0.4.1)\n",
            "Requirement already satisfied, skipping upgrade: cycler>=0.10 in c:\\users\\pooja\\anaconda3\\envs\\python36cudapytorch\\lib\\site-packages (from matplotlib>=2.2.3->allennlp) (0.10.0)\n",
            "Requirement already satisfied, skipping upgrade: kiwisolver>=1.0.1 in c:\\users\\pooja\\anaconda3\\envs\\python36cudapytorch\\lib\\site-packages (from matplotlib>=2.2.3->allennlp) (1.1.0)\n",
            "Requirement already satisfied, skipping upgrade: pyparsing!=2.0.4,!=2.1.2,!=2.1.6,>=2.0.1 in c:\\users\\pooja\\anaconda3\\envs\\python36cudapytorch\\lib\\site-packages (from matplotlib>=2.2.3->allennlp) (2.4.5)\n",
            "Requirement already satisfied, skipping upgrade: python-dateutil>=2.1 in c:\\users\\pooja\\anaconda3\\envs\\python36cudapytorch\\lib\\site-packages (from matplotlib>=2.2.3->allennlp) (2.8.1)\n",
            "Requirement already satisfied, skipping upgrade: joblib>=0.11 in c:\\users\\pooja\\anaconda3\\envs\\python36cudapytorch\\lib\\site-packages (from scikit-learn->allennlp) (0.14.1)\n",
            "Requirement already satisfied, skipping upgrade: zipp>=0.5 in c:\\users\\pooja\\anaconda3\\envs\\python36cudapytorch\\lib\\site-packages (from importlib-metadata>=0.20; python_version < \"3.8\"->catalogue<1.1.0,>=0.0.7->spacy) (0.6.0)\n",
            "Requirement already satisfied, skipping upgrade: MarkupSafe>=0.23 in c:\\users\\pooja\\anaconda3\\envs\\python36cudapytorch\\lib\\site-packages (from Jinja2>=2.10.1->flask>=1.0.2->allennlp) (1.1.1)\n",
            "Requirement already satisfied, skipping upgrade: docutils>=0.12 in c:\\users\\pooja\\anaconda3\\envs\\python36cudapytorch\\lib\\site-packages (from sphinx>=1.6.5->numpydoc>=0.8.0->allennlp) (0.16)\n",
            "Requirement already satisfied, skipping upgrade: babel!=2.0,>=1.3 in c:\\users\\pooja\\anaconda3\\envs\\python36cudapytorch\\lib\\site-packages (from sphinx>=1.6.5->numpydoc>=0.8.0->allennlp) (2.8.0)\n",
            "Requirement already satisfied, skipping upgrade: sphinxcontrib-devhelp in c:\\users\\pooja\\anaconda3\\envs\\python36cudapytorch\\lib\\site-packages (from sphinx>=1.6.5->numpydoc>=0.8.0->allennlp) (1.0.2)\n",
            "Requirement already satisfied, skipping upgrade: snowballstemmer>=1.1 in c:\\users\\pooja\\anaconda3\\envs\\python36cudapytorch\\lib\\site-packages (from sphinx>=1.6.5->numpydoc>=0.8.0->allennlp) (2.0.0)\n",
            "Requirement already satisfied, skipping upgrade: Pygments>=2.0 in c:\\users\\pooja\\anaconda3\\envs\\python36cudapytorch\\lib\\site-packages (from sphinx>=1.6.5->numpydoc>=0.8.0->allennlp) (2.4.2)\n",
            "Requirement already satisfied, skipping upgrade: sphinxcontrib-serializinghtml in c:\\users\\pooja\\anaconda3\\envs\\python36cudapytorch\\lib\\site-packages (from sphinx>=1.6.5->numpydoc>=0.8.0->allennlp) (1.1.4)\n",
            "Requirement already satisfied, skipping upgrade: sphinxcontrib-applehelp in c:\\users\\pooja\\anaconda3\\envs\\python36cudapytorch\\lib\\site-packages (from sphinx>=1.6.5->numpydoc>=0.8.0->allennlp) (1.0.2)\n",
            "Requirement already satisfied, skipping upgrade: sphinxcontrib-jsmath in c:\\users\\pooja\\anaconda3\\envs\\python36cudapytorch\\lib\\site-packages (from sphinx>=1.6.5->numpydoc>=0.8.0->allennlp) (1.0.1)\n",
            "Requirement already satisfied, skipping upgrade: alabaster<0.8,>=0.7 in c:\\users\\pooja\\anaconda3\\envs\\python36cudapytorch\\lib\\site-packages (from sphinx>=1.6.5->numpydoc>=0.8.0->allennlp) (0.7.12)\n",
            "Requirement already satisfied, skipping upgrade: imagesize in c:\\users\\pooja\\anaconda3\\envs\\python36cudapytorch\\lib\\site-packages (from sphinx>=1.6.5->numpydoc>=0.8.0->allennlp) (1.2.0)\n",
            "Requirement already satisfied, skipping upgrade: sphinxcontrib-qthelp in c:\\users\\pooja\\anaconda3\\envs\\python36cudapytorch\\lib\\site-packages (from sphinx>=1.6.5->numpydoc>=0.8.0->allennlp) (1.0.3)\n",
            "Requirement already satisfied, skipping upgrade: sphinxcontrib-htmlhelp in c:\\users\\pooja\\anaconda3\\envs\\python36cudapytorch\\lib\\site-packages (from sphinx>=1.6.5->numpydoc>=0.8.0->allennlp) (1.0.3)\n",
            "Requirement already satisfied, skipping upgrade: pycparser in c:\\users\\pooja\\anaconda3\\envs\\python36cudapytorch\\lib\\site-packages (from cffi>=1.11.5; sys_platform == \"win32\" and platform_python_implementation == \"CPython\"->gevent>=1.3.6->allennlp) (2.19)\n"
          ],
          "name": "stdout"
        },
        {
          "output_type": "stream",
          "text": [
            "2.2.4\n"
          ],
          "name": "stdout"
        }
      ]
    },
    {
      "cell_type": "code",
      "metadata": {
        "colab_type": "code",
        "id": "f4zJfaIlJ2bv",
        "outputId": "2f621f75-44ef-43cc-d50a-1cd37acfd31d",
        "colab": {
          "base_uri": "https://localhost:8080/",
          "height": 34
        }
      },
      "source": [
        "from typing import Iterator, List, Dict\n",
        "import torch\n",
        "import torch.optim as optim\n",
        "import numpy as np\n",
        "from allennlp.data import Instance\n",
        "from allennlp.data.fields import TextField, SequenceLabelField\n",
        "from allennlp.data.dataset_readers import DatasetReader\n",
        "from allennlp.common.file_utils import cached_path\n",
        "from allennlp.data.token_indexers import TokenIndexer, SingleIdTokenIndexer\n",
        "from allennlp.data.tokenizers import Token\n",
        "from allennlp.data.vocabulary import Vocabulary\n",
        "from allennlp.models import Model\n",
        "from allennlp.modules.text_field_embedders import TextFieldEmbedder, BasicTextFieldEmbedder\n",
        "from allennlp.modules.token_embedders import Embedding\n",
        "from allennlp.modules.seq2seq_encoders import Seq2SeqEncoder, PytorchSeq2SeqWrapper\n",
        "from allennlp.nn.util import get_text_field_mask, sequence_cross_entropy_with_logits\n",
        "from allennlp.training.metrics import CategoricalAccuracy\n",
        "from allennlp.data.iterators import BucketIterator\n",
        "from allennlp.training.trainer import Trainer\n",
        "from allennlp.predictors import SentenceTaggerPredictor\n",
        "from allennlp.data.dataset_readers import conll2003\n",
        "\n",
        "torch.manual_seed(1)"
      ],
      "execution_count": 0,
      "outputs": [
        {
          "output_type": "execute_result",
          "data": {
            "text/plain": [
              "<torch._C.Generator at 0x1b7d669b550>"
            ]
          },
          "metadata": {
            "tags": []
          },
          "execution_count": 2
        }
      ]
    },
    {
      "cell_type": "code",
      "metadata": {
        "colab_type": "code",
        "id": "Qo16Ko0Gchxk",
        "colab": {}
      },
      "source": [
        "class LstmTagger(Model):\n",
        "  def __init__(self,\n",
        "               word_embeddings: TextFieldEmbedder,\n",
        "               encoder: Seq2SeqEncoder,\n",
        "               vocab: Vocabulary) -> None:\n",
        "    super().__init__(vocab)\n",
        "    self.word_embeddings = word_embeddings\n",
        "    self.encoder = encoder\n",
        "    self.hidden2tag = torch.nn.Linear(in_features=encoder.get_output_dim(),\n",
        "                                      out_features=vocab.get_vocab_size('labels'))\n",
        "    self.accuracy = CategoricalAccuracy()\n",
        "\n",
        "  def forward(self,\n",
        "              tokens: Dict[str, torch.Tensor],\n",
        "              metadata,\n",
        "              tags: torch.Tensor = None) -> Dict[str, torch.Tensor]:\n",
        "    mask = get_text_field_mask(tokens)\n",
        "    embeddings = self.word_embeddings(tokens)\n",
        "    encoder_out = self.encoder(embeddings, mask)\n",
        "    tag_logits = self.hidden2tag(encoder_out)\n",
        "    output = {\"tag_logits\": tag_logits}\n",
        "    if tags is not None:\n",
        "      self.accuracy(tag_logits, tags, mask)\n",
        "      output[\"loss\"] = sequence_cross_entropy_with_logits(tag_logits, tags, mask)\n",
        "\n",
        "    return output\n",
        "\n",
        "  def get_metrics(self, reset: bool = False) -> Dict[str, float]:\n",
        "    return {\"accuracy\": self.accuracy.get_metric(reset)}"
      ],
      "execution_count": 0,
      "outputs": []
    },
    {
      "cell_type": "markdown",
      "metadata": {
        "colab_type": "text",
        "id": "mVdKvPftVVLt"
      },
      "source": [
        "## Import Data"
      ]
    },
    {
      "cell_type": "code",
      "metadata": {
        "colab_type": "code",
        "id": "5sOVVZslKm3N",
        "outputId": "17d59f17-d5db-45da-df20-c7213ef5c7d3",
        "colab": {
          "base_uri": "https://localhost:8080/",
          "height": 101
        }
      },
      "source": [
        "reader = conll2003.Conll2003DatasetReader()\n",
        "train_dataset = reader.read(cached_path('http://www.ccs.neu.edu/home/dasmith/onto.train.ner.sample'))\n",
        "validation_dataset = reader.read(cached_path('http://www.ccs.neu.edu/home/dasmith/onto.development.ner.sample'))\n",
        "\n",
        "vocab = Vocabulary.from_instances(train_dataset + validation_dataset)"
      ],
      "execution_count": 0,
      "outputs": [
        {
          "output_type": "stream",
          "text": [
            "562it [00:00, 10806.64it/s]\n",
            "23it [00:00, 1915.32it/s]\n",
            "100%|█████████████████████████████████████████████████████████████████████████████| 585/585 [00:00<00:00, 73080.20it/s]\n"
          ],
          "name": "stderr"
        }
      ]
    },
    {
      "cell_type": "markdown",
      "metadata": {
        "colab_type": "text",
        "id": "wpg2Udr-Vnwm"
      },
      "source": [
        "## Define and Train Model"
      ]
    },
    {
      "cell_type": "code",
      "metadata": {
        "colab_type": "code",
        "id": "8kDQQBMywdKx",
        "outputId": "f4765152-c50f-473d-9c6c-543e47fe78fb",
        "colab": {
          "base_uri": "https://localhost:8080/",
          "height": 1000
        }
      },
      "source": [
        "EMBEDDING_DIM = 6\n",
        "HIDDEN_DIM = 6\n",
        "token_embedding = Embedding(num_embeddings=vocab.get_vocab_size('tokens'),\n",
        "                            embedding_dim=EMBEDDING_DIM)\n",
        "word_embeddings = BasicTextFieldEmbedder({\"tokens\": token_embedding})\n",
        "lstm = PytorchSeq2SeqWrapper(torch.nn.LSTM(EMBEDDING_DIM, HIDDEN_DIM, bidirectional=False, batch_first=True))\n",
        "model = LstmTagger(word_embeddings, lstm, vocab)\n",
        "if torch.cuda.is_available():\n",
        "    cuda_device = 0\n",
        "    model = model.cuda(cuda_device)\n",
        "else:\n",
        "    cuda_device = -1\n",
        "# optimizer = optim.AdamW(model.parameters(), lr=1e-4, eps=1e-8)\n",
        "optimizer = optim.SGD(model.parameters(), lr=0.1)\n",
        "iterator = BucketIterator(batch_size=2, sorting_keys=[(\"tokens\", \"num_tokens\")])\n",
        "iterator.index_with(vocab)\n",
        "trainer = Trainer(model=model,\n",
        "                  optimizer=optimizer,\n",
        "                  iterator=iterator,\n",
        "                  train_dataset=train_dataset,\n",
        "                  validation_dataset=validation_dataset,\n",
        "                  patience=10,\n",
        "                  num_epochs=100,\n",
        "                  cuda_device=cuda_device)\n",
        "trainer.train()"
      ],
      "execution_count": 0,
      "outputs": [
        {
          "output_type": "stream",
          "text": [
            "accuracy: 0.8442, loss: 0.9018 ||: 100%|█████████████████████████████████████████████| 281/281 [00:04<00:00, 58.59it/s]\n",
            "accuracy: 0.7878, loss: 1.2140 ||: 100%|██████████████████████████████████████████████| 12/12 [00:00<00:00, 139.37it/s]\n",
            "accuracy: 0.8442, loss: 0.7298 ||: 100%|█████████████████████████████████████████████| 281/281 [00:03<00:00, 72.63it/s]\n",
            "accuracy: 0.7878, loss: 1.1818 ||: 100%|██████████████████████████████████████████████| 12/12 [00:00<00:00, 168.68it/s]\n",
            "accuracy: 0.8442, loss: 0.7166 ||: 100%|█████████████████████████████████████████████| 281/281 [00:03<00:00, 78.61it/s]\n",
            "accuracy: 0.7878, loss: 1.1876 ||: 100%|██████████████████████████████████████████████| 12/12 [00:00<00:00, 172.57it/s]\n",
            "accuracy: 0.8442, loss: 0.7061 ||: 100%|█████████████████████████████████████████████| 281/281 [00:03<00:00, 86.29it/s]\n",
            "accuracy: 0.7878, loss: 1.1596 ||: 100%|██████████████████████████████████████████████| 12/12 [00:00<00:00, 190.19it/s]\n",
            "accuracy: 0.8442, loss: 0.6974 ||: 100%|█████████████████████████████████████████████| 281/281 [00:03<00:00, 87.73it/s]\n",
            "accuracy: 0.7878, loss: 1.1845 ||: 100%|██████████████████████████████████████████████| 12/12 [00:00<00:00, 179.45it/s]\n",
            "accuracy: 0.8442, loss: 0.6901 ||: 100%|█████████████████████████████████████████████| 281/281 [00:03<00:00, 88.75it/s]\n",
            "accuracy: 0.7878, loss: 1.1518 ||: 100%|██████████████████████████████████████████████| 12/12 [00:00<00:00, 181.94it/s]\n",
            "accuracy: 0.8442, loss: 0.6807 ||: 100%|█████████████████████████████████████████████| 281/281 [00:03<00:00, 90.72it/s]\n",
            "accuracy: 0.7878, loss: 1.1455 ||: 100%|██████████████████████████████████████████████| 12/12 [00:00<00:00, 166.67it/s]\n",
            "accuracy: 0.8442, loss: 0.6691 ||: 100%|█████████████████████████████████████████████| 281/281 [00:03<00:00, 93.02it/s]\n",
            "accuracy: 0.7878, loss: 1.1194 ||: 100%|██████████████████████████████████████████████| 12/12 [00:00<00:00, 157.90it/s]\n",
            "accuracy: 0.8442, loss: 0.6550 ||: 100%|█████████████████████████████████████████████| 281/281 [00:03<00:00, 92.59it/s]\n",
            "accuracy: 0.7878, loss: 1.1072 ||: 100%|██████████████████████████████████████████████| 12/12 [00:00<00:00, 199.99it/s]\n",
            "accuracy: 0.8442, loss: 0.6369 ||: 100%|█████████████████████████████████████████████| 281/281 [00:03<00:00, 91.59it/s]\n",
            "accuracy: 0.7878, loss: 1.0818 ||: 100%|██████████████████████████████████████████████| 12/12 [00:00<00:00, 176.47it/s]\n",
            "accuracy: 0.8442, loss: 0.6123 ||: 100%|█████████████████████████████████████████████| 281/281 [00:03<00:00, 92.56it/s]\n",
            "accuracy: 0.7878, loss: 1.0503 ||: 100%|██████████████████████████████████████████████| 12/12 [00:00<00:00, 150.00it/s]\n",
            "accuracy: 0.8442, loss: 0.5784 ||: 100%|█████████████████████████████████████████████| 281/281 [00:03<00:00, 86.94it/s]\n",
            "accuracy: 0.7878, loss: 0.9729 ||: 100%|██████████████████████████████████████████████| 12/12 [00:00<00:00, 176.47it/s]\n",
            "accuracy: 0.8467, loss: 0.5398 ||: 100%|█████████████████████████████████████████████| 281/281 [00:03<00:00, 91.10it/s]\n",
            "accuracy: 0.7878, loss: 0.9636 ||: 100%|██████████████████████████████████████████████| 12/12 [00:00<00:00, 166.66it/s]\n",
            "accuracy: 0.8561, loss: 0.5030 ||: 100%|█████████████████████████████████████████████| 281/281 [00:03<00:00, 92.63it/s]\n",
            "accuracy: 0.7878, loss: 0.8546 ||: 100%|██████████████████████████████████████████████| 12/12 [00:00<00:00, 187.50it/s]\n",
            "accuracy: 0.8591, loss: 0.4718 ||: 100%|█████████████████████████████████████████████| 281/281 [00:03<00:00, 93.22it/s]\n",
            "accuracy: 0.7878, loss: 0.8269 ||: 100%|██████████████████████████████████████████████| 12/12 [00:00<00:00, 206.61it/s]\n",
            "accuracy: 0.8605, loss: 0.4472 ||: 100%|█████████████████████████████████████████████| 281/281 [00:03<00:00, 83.64it/s]\n",
            "accuracy: 0.7939, loss: 0.7904 ||: 100%|██████████████████████████████████████████████| 12/12 [00:00<00:00, 142.86it/s]\n",
            "accuracy: 0.8615, loss: 0.4294 ||: 100%|█████████████████████████████████████████████| 281/281 [00:03<00:00, 84.32it/s]\n",
            "accuracy: 0.7939, loss: 0.7896 ||: 100%|██████████████████████████████████████████████| 12/12 [00:00<00:00, 136.36it/s]\n",
            "accuracy: 0.8622, loss: 0.4148 ||: 100%|█████████████████████████████████████████████| 281/281 [00:04<00:00, 68.00it/s]\n",
            "accuracy: 0.7939, loss: 0.7790 ||: 100%|██████████████████████████████████████████████| 12/12 [00:00<00:00, 187.50it/s]\n",
            "accuracy: 0.8627, loss: 0.4053 ||: 100%|█████████████████████████████████████████████| 281/281 [00:03<00:00, 92.87it/s]\n",
            "accuracy: 0.7939, loss: 0.7667 ||: 100%|██████████████████████████████████████████████| 12/12 [00:00<00:00, 176.47it/s]\n",
            "accuracy: 0.8637, loss: 0.3988 ||: 100%|█████████████████████████████████████████████| 281/281 [00:03<00:00, 80.85it/s]\n",
            "accuracy: 0.7939, loss: 0.7367 ||: 100%|██████████████████████████████████████████████| 12/12 [00:00<00:00, 163.42it/s]\n",
            "accuracy: 0.8634, loss: 0.3923 ||: 100%|█████████████████████████████████████████████| 281/281 [00:03<00:00, 85.57it/s]\n",
            "accuracy: 0.7939, loss: 0.7283 ||: 100%|██████████████████████████████████████████████| 12/12 [00:00<00:00, 187.50it/s]\n",
            "accuracy: 0.8643, loss: 0.3872 ||: 100%|█████████████████████████████████████████████| 281/281 [00:03<00:00, 92.25it/s]\n",
            "accuracy: 0.7939, loss: 0.7484 ||: 100%|██████████████████████████████████████████████| 12/12 [00:00<00:00, 176.47it/s]\n",
            "accuracy: 0.8640, loss: 0.3810 ||: 100%|█████████████████████████████████████████████| 281/281 [00:02<00:00, 93.77it/s]\n",
            "accuracy: 0.7939, loss: 0.7248 ||: 100%|██████████████████████████████████████████████| 12/12 [00:00<00:00, 176.48it/s]\n",
            "accuracy: 0.8653, loss: 0.3793 ||: 100%|█████████████████████████████████████████████| 281/281 [00:03<00:00, 91.11it/s]\n",
            "accuracy: 0.7939, loss: 0.7502 ||: 100%|██████████████████████████████████████████████| 12/12 [00:00<00:00, 187.50it/s]\n",
            "accuracy: 0.8647, loss: 0.3742 ||: 100%|█████████████████████████████████████████████| 281/281 [00:03<00:00, 90.25it/s]\n",
            "accuracy: 0.7939, loss: 0.7052 ||: 100%|██████████████████████████████████████████████| 12/12 [00:00<00:00, 187.49it/s]\n",
            "accuracy: 0.8669, loss: 0.3702 ||: 100%|█████████████████████████████████████████████| 281/281 [00:03<00:00, 93.61it/s]\n",
            "accuracy: 0.7959, loss: 0.6989 ||: 100%|██████████████████████████████████████████████| 12/12 [00:00<00:00, 157.89it/s]\n",
            "accuracy: 0.8673, loss: 0.3653 ||: 100%|█████████████████████████████████████████████| 281/281 [00:03<00:00, 92.33it/s]\n",
            "accuracy: 0.7980, loss: 0.7169 ||: 100%|██████████████████████████████████████████████| 12/12 [00:00<00:00, 166.66it/s]\n",
            "accuracy: 0.8693, loss: 0.3620 ||: 100%|█████████████████████████████████████████████| 281/281 [00:03<00:00, 91.99it/s]\n",
            "accuracy: 0.8020, loss: 0.6860 ||: 100%|██████████████████████████████████████████████| 12/12 [00:00<00:00, 166.67it/s]\n",
            "accuracy: 0.8710, loss: 0.3580 ||: 100%|█████████████████████████████████████████████| 281/281 [00:03<00:00, 89.11it/s]\n",
            "accuracy: 0.8041, loss: 0.6887 ||: 100%|██████████████████████████████████████████████| 12/12 [00:00<00:00, 166.67it/s]\n",
            "accuracy: 0.8712, loss: 0.3565 ||: 100%|█████████████████████████████████████████████| 281/281 [00:03<00:00, 91.48it/s]\n",
            "accuracy: 0.8041, loss: 0.6856 ||: 100%|██████████████████████████████████████████████| 12/12 [00:00<00:00, 187.49it/s]\n",
            "accuracy: 0.8729, loss: 0.3522 ||: 100%|█████████████████████████████████████████████| 281/281 [00:03<00:00, 91.95it/s]\n",
            "accuracy: 0.8102, loss: 0.6681 ||: 100%|██████████████████████████████████████████████| 12/12 [00:00<00:00, 200.00it/s]\n",
            "accuracy: 0.8738, loss: 0.3485 ||: 100%|█████████████████████████████████████████████| 281/281 [00:03<00:00, 82.60it/s]\n",
            "accuracy: 0.8082, loss: 0.6768 ||: 100%|██████████████████████████████████████████████| 12/12 [00:00<00:00, 157.89it/s]\n",
            "accuracy: 0.8746, loss: 0.3457 ||: 100%|█████████████████████████████████████████████| 281/281 [00:03<00:00, 87.24it/s]\n",
            "accuracy: 0.8102, loss: 0.6572 ||: 100%|██████████████████████████████████████████████| 12/12 [00:00<00:00, 136.43it/s]\n",
            "accuracy: 0.8750, loss: 0.3428 ||: 100%|█████████████████████████████████████████████| 281/281 [00:04<00:00, 66.88it/s]\n",
            "accuracy: 0.8102, loss: 0.6615 ||: 100%|██████████████████████████████████████████████| 12/12 [00:00<00:00, 166.67it/s]\n"
          ],
          "name": "stderr"
        },
        {
          "output_type": "stream",
          "text": [
            "accuracy: 0.8770, loss: 0.3403 ||: 100%|█████████████████████████████████████████████| 281/281 [00:03<00:00, 75.44it/s]\n",
            "accuracy: 0.8082, loss: 0.6726 ||: 100%|██████████████████████████████████████████████| 12/12 [00:00<00:00, 150.00it/s]\n",
            "accuracy: 0.8772, loss: 0.3370 ||: 100%|█████████████████████████████████████████████| 281/281 [00:03<00:00, 79.81it/s]\n",
            "accuracy: 0.8163, loss: 0.6493 ||: 100%|██████████████████████████████████████████████| 12/12 [00:00<00:00, 176.48it/s]\n",
            "accuracy: 0.8786, loss: 0.3354 ||: 100%|█████████████████████████████████████████████| 281/281 [00:03<00:00, 80.00it/s]\n",
            "accuracy: 0.8224, loss: 0.6428 ||: 100%|██████████████████████████████████████████████| 12/12 [00:00<00:00, 166.67it/s]\n",
            "accuracy: 0.8779, loss: 0.3322 ||: 100%|█████████████████████████████████████████████| 281/281 [00:03<00:00, 78.87it/s]\n",
            "accuracy: 0.8184, loss: 0.6495 ||: 100%|██████████████████████████████████████████████| 12/12 [00:00<00:00, 173.75it/s]\n",
            "accuracy: 0.8799, loss: 0.3297 ||: 100%|█████████████████████████████████████████████| 281/281 [00:03<00:00, 90.75it/s]\n",
            "accuracy: 0.8204, loss: 0.6606 ||: 100%|██████████████████████████████████████████████| 12/12 [00:00<00:00, 200.00it/s]\n",
            "accuracy: 0.8808, loss: 0.3290 ||: 100%|█████████████████████████████████████████████| 281/281 [00:03<00:00, 92.33it/s]\n",
            "accuracy: 0.8286, loss: 0.6365 ||: 100%|██████████████████████████████████████████████| 12/12 [00:00<00:00, 206.19it/s]\n",
            "accuracy: 0.8817, loss: 0.3236 ||: 100%|█████████████████████████████████████████████| 281/281 [00:03<00:00, 92.80it/s]\n",
            "accuracy: 0.8286, loss: 0.6126 ||: 100%|██████████████████████████████████████████████| 12/12 [00:00<00:00, 200.00it/s]\n",
            "accuracy: 0.8818, loss: 0.3231 ||: 100%|█████████████████████████████████████████████| 281/281 [00:03<00:00, 93.16it/s]\n",
            "accuracy: 0.8224, loss: 0.6382 ||: 100%|██████████████████████████████████████████████| 12/12 [00:00<00:00, 166.66it/s]\n",
            "accuracy: 0.8824, loss: 0.3195 ||: 100%|█████████████████████████████████████████████| 281/281 [00:03<00:00, 91.63it/s]\n",
            "accuracy: 0.8265, loss: 0.6138 ||: 100%|██████████████████████████████████████████████| 12/12 [00:00<00:00, 184.42it/s]\n",
            "accuracy: 0.8854, loss: 0.3169 ||: 100%|█████████████████████████████████████████████| 281/281 [00:03<00:00, 81.03it/s]\n",
            "accuracy: 0.8347, loss: 0.6068 ||: 100%|██████████████████████████████████████████████| 12/12 [00:00<00:00, 150.00it/s]\n",
            "accuracy: 0.8843, loss: 0.3155 ||: 100%|█████████████████████████████████████████████| 281/281 [00:03<00:00, 78.48it/s]\n",
            "accuracy: 0.8327, loss: 0.6096 ||: 100%|██████████████████████████████████████████████| 12/12 [00:00<00:00, 157.89it/s]\n",
            "accuracy: 0.8873, loss: 0.3123 ||: 100%|█████████████████████████████████████████████| 281/281 [00:03<00:00, 80.14it/s]\n",
            "accuracy: 0.8347, loss: 0.6062 ||: 100%|██████████████████████████████████████████████| 12/12 [00:00<00:00, 165.92it/s]\n",
            "accuracy: 0.8872, loss: 0.3105 ||: 100%|█████████████████████████████████████████████| 281/281 [00:03<00:00, 84.95it/s]\n",
            "accuracy: 0.8306, loss: 0.6084 ||: 100%|██████████████████████████████████████████████| 12/12 [00:00<00:00, 200.00it/s]\n",
            "accuracy: 0.8889, loss: 0.3070 ||: 100%|█████████████████████████████████████████████| 281/281 [00:03<00:00, 90.39it/s]\n",
            "accuracy: 0.8408, loss: 0.5840 ||: 100%|██████████████████████████████████████████████| 12/12 [00:00<00:00, 150.00it/s]\n",
            "accuracy: 0.8889, loss: 0.3054 ||: 100%|█████████████████████████████████████████████| 281/281 [00:03<00:00, 91.08it/s]\n",
            "accuracy: 0.8429, loss: 0.5949 ||: 100%|██████████████████████████████████████████████| 12/12 [00:00<00:00, 187.51it/s]\n",
            "accuracy: 0.8901, loss: 0.3020 ||: 100%|█████████████████████████████████████████████| 281/281 [00:03<00:00, 85.89it/s]\n",
            "accuracy: 0.8449, loss: 0.5967 ||: 100%|██████████████████████████████████████████████| 12/12 [00:00<00:00, 147.91it/s]\n",
            "accuracy: 0.8903, loss: 0.2984 ||: 100%|█████████████████████████████████████████████| 281/281 [00:03<00:00, 92.40it/s]\n",
            "accuracy: 0.8408, loss: 0.5774 ||: 100%|██████████████████████████████████████████████| 12/12 [00:00<00:00, 193.26it/s]\n",
            "accuracy: 0.8915, loss: 0.2972 ||: 100%|█████████████████████████████████████████████| 281/281 [00:03<00:00, 85.31it/s]\n",
            "accuracy: 0.8469, loss: 0.5687 ||: 100%|██████████████████████████████████████████████| 12/12 [00:00<00:00, 157.90it/s]\n",
            "accuracy: 0.8921, loss: 0.2925 ||: 100%|█████████████████████████████████████████████| 281/281 [00:03<00:00, 92.57it/s]\n",
            "accuracy: 0.8469, loss: 0.5813 ||: 100%|██████████████████████████████████████████████| 12/12 [00:00<00:00, 166.67it/s]\n",
            "accuracy: 0.8941, loss: 0.2912 ||: 100%|█████████████████████████████████████████████| 281/281 [00:03<00:00, 78.18it/s]\n",
            "accuracy: 0.8429, loss: 0.5574 ||: 100%|██████████████████████████████████████████████| 12/12 [00:00<00:00, 142.85it/s]\n",
            "accuracy: 0.8964, loss: 0.2891 ||: 100%|█████████████████████████████████████████████| 281/281 [00:03<00:00, 83.71it/s]\n",
            "accuracy: 0.8449, loss: 0.5586 ||: 100%|██████████████████████████████████████████████| 12/12 [00:00<00:00, 187.50it/s]\n",
            "accuracy: 0.8939, loss: 0.2853 ||: 100%|█████████████████████████████████████████████| 281/281 [00:03<00:00, 86.29it/s]\n",
            "accuracy: 0.8449, loss: 0.5678 ||: 100%|██████████████████████████████████████████████| 12/12 [00:00<00:00, 136.36it/s]\n",
            "accuracy: 0.8961, loss: 0.2836 ||: 100%|█████████████████████████████████████████████| 281/281 [00:03<00:00, 78.38it/s]\n",
            "accuracy: 0.8490, loss: 0.5473 ||: 100%|██████████████████████████████████████████████| 12/12 [00:00<00:00, 200.00it/s]\n",
            "accuracy: 0.8974, loss: 0.2803 ||: 100%|█████████████████████████████████████████████| 281/281 [00:03<00:00, 76.26it/s]\n",
            "accuracy: 0.8490, loss: 0.5573 ||: 100%|██████████████████████████████████████████████| 12/12 [00:00<00:00, 150.00it/s]\n",
            "accuracy: 0.8979, loss: 0.2769 ||: 100%|█████████████████████████████████████████████| 281/281 [00:03<00:00, 78.39it/s]\n",
            "accuracy: 0.8469, loss: 0.5430 ||: 100%|██████████████████████████████████████████████| 12/12 [00:00<00:00, 129.90it/s]\n",
            "accuracy: 0.8996, loss: 0.2745 ||: 100%|█████████████████████████████████████████████| 281/281 [00:03<00:00, 72.83it/s]\n",
            "accuracy: 0.8490, loss: 0.5485 ||: 100%|██████████████████████████████████████████████| 12/12 [00:00<00:00, 171.24it/s]\n",
            "accuracy: 0.8984, loss: 0.2731 ||: 100%|█████████████████████████████████████████████| 281/281 [00:03<00:00, 82.60it/s]\n",
            "accuracy: 0.8510, loss: 0.5389 ||: 100%|██████████████████████████████████████████████| 12/12 [00:00<00:00, 187.50it/s]\n",
            "accuracy: 0.9018, loss: 0.2711 ||: 100%|█████████████████████████████████████████████| 281/281 [00:03<00:00, 91.00it/s]\n",
            "accuracy: 0.8490, loss: 0.5258 ||: 100%|██████████████████████████████████████████████| 12/12 [00:00<00:00, 173.03it/s]\n",
            "accuracy: 0.9034, loss: 0.2669 ||: 100%|█████████████████████████████████████████████| 281/281 [00:03<00:00, 89.62it/s]\n",
            "accuracy: 0.8469, loss: 0.5248 ||: 100%|██████████████████████████████████████████████| 12/12 [00:00<00:00, 157.90it/s]\n",
            "accuracy: 0.9013, loss: 0.2663 ||: 100%|█████████████████████████████████████████████| 281/281 [00:02<00:00, 94.22it/s]\n",
            "accuracy: 0.8510, loss: 0.5345 ||: 100%|██████████████████████████████████████████████| 12/12 [00:00<00:00, 187.50it/s]\n",
            "accuracy: 0.9006, loss: 0.2619 ||: 100%|█████████████████████████████████████████████| 281/281 [00:03<00:00, 93.03it/s]\n",
            "accuracy: 0.8531, loss: 0.5279 ||: 100%|██████████████████████████████████████████████| 12/12 [00:00<00:00, 176.47it/s]\n",
            "accuracy: 0.9034, loss: 0.2597 ||: 100%|█████████████████████████████████████████████| 281/281 [00:03<00:00, 91.87it/s]\n",
            "accuracy: 0.8571, loss: 0.5273 ||: 100%|██████████████████████████████████████████████| 12/12 [00:00<00:00, 166.67it/s]\n",
            "accuracy: 0.9058, loss: 0.2590 ||: 100%|█████████████████████████████████████████████| 281/281 [00:03<00:00, 89.81it/s]\n",
            "accuracy: 0.8551, loss: 0.5171 ||: 100%|██████████████████████████████████████████████| 12/12 [00:00<00:00, 166.67it/s]\n",
            "accuracy: 0.9056, loss: 0.2541 ||: 100%|█████████████████████████████████████████████| 281/281 [00:03<00:00, 87.57it/s]\n",
            "accuracy: 0.8531, loss: 0.5224 ||: 100%|██████████████████████████████████████████████| 12/12 [00:00<00:00, 187.48it/s]\n"
          ],
          "name": "stderr"
        },
        {
          "output_type": "stream",
          "text": [
            "accuracy: 0.9046, loss: 0.2528 ||: 100%|█████████████████████████████████████████████| 281/281 [00:03<00:00, 91.71it/s]\n",
            "accuracy: 0.8551, loss: 0.5082 ||: 100%|██████████████████████████████████████████████| 12/12 [00:00<00:00, 166.66it/s]\n",
            "accuracy: 0.9093, loss: 0.2481 ||: 100%|█████████████████████████████████████████████| 281/281 [00:03<00:00, 91.13it/s]\n",
            "accuracy: 0.8612, loss: 0.4979 ||: 100%|██████████████████████████████████████████████| 12/12 [00:00<00:00, 187.50it/s]\n",
            "accuracy: 0.9094, loss: 0.2459 ||: 100%|█████████████████████████████████████████████| 281/281 [00:03<00:00, 86.91it/s]\n",
            "accuracy: 0.8592, loss: 0.4938 ||: 100%|██████████████████████████████████████████████| 12/12 [00:00<00:00, 187.50it/s]\n",
            "accuracy: 0.9095, loss: 0.2436 ||: 100%|█████████████████████████████████████████████| 281/281 [00:03<00:00, 76.49it/s]\n",
            "accuracy: 0.8633, loss: 0.4819 ||: 100%|██████████████████████████████████████████████| 12/12 [00:00<00:00, 187.50it/s]\n",
            "accuracy: 0.9119, loss: 0.2428 ||: 100%|█████████████████████████████████████████████| 281/281 [00:03<00:00, 86.60it/s]\n",
            "accuracy: 0.8592, loss: 0.4882 ||: 100%|██████████████████████████████████████████████| 12/12 [00:00<00:00, 187.51it/s]\n",
            "accuracy: 0.9107, loss: 0.2396 ||: 100%|█████████████████████████████████████████████| 281/281 [00:03<00:00, 78.36it/s]\n",
            "accuracy: 0.8592, loss: 0.4748 ||: 100%|██████████████████████████████████████████████| 12/12 [00:00<00:00, 157.89it/s]\n",
            "accuracy: 0.9123, loss: 0.2367 ||: 100%|█████████████████████████████████████████████| 281/281 [00:03<00:00, 93.48it/s]\n",
            "accuracy: 0.8612, loss: 0.4727 ||: 100%|██████████████████████████████████████████████| 12/12 [00:00<00:00, 150.00it/s]\n",
            "accuracy: 0.9125, loss: 0.2356 ||: 100%|█████████████████████████████████████████████| 281/281 [00:03<00:00, 90.40it/s]\n",
            "accuracy: 0.8653, loss: 0.4643 ||: 100%|██████████████████████████████████████████████| 12/12 [00:00<00:00, 176.46it/s]\n",
            "accuracy: 0.9174, loss: 0.2331 ||: 100%|█████████████████████████████████████████████| 281/281 [00:03<00:00, 73.41it/s]\n",
            "accuracy: 0.8612, loss: 0.4632 ||: 100%|██████████████████████████████████████████████| 12/12 [00:00<00:00, 142.86it/s]\n",
            "accuracy: 0.9137, loss: 0.2328 ||: 100%|█████████████████████████████████████████████| 281/281 [00:03<00:00, 79.39it/s]\n",
            "accuracy: 0.8612, loss: 0.4691 ||: 100%|██████████████████████████████████████████████| 12/12 [00:00<00:00, 176.47it/s]\n",
            "accuracy: 0.9147, loss: 0.2298 ||: 100%|█████████████████████████████████████████████| 281/281 [00:03<00:00, 80.40it/s]\n",
            "accuracy: 0.8694, loss: 0.4610 ||: 100%|██████████████████████████████████████████████| 12/12 [00:00<00:00, 171.25it/s]\n",
            "accuracy: 0.9172, loss: 0.2266 ||: 100%|█████████████████████████████████████████████| 281/281 [00:03<00:00, 77.77it/s]\n",
            "accuracy: 0.8633, loss: 0.4644 ||: 100%|██████████████████████████████████████████████| 12/12 [00:00<00:00, 157.89it/s]\n",
            "accuracy: 0.9171, loss: 0.2266 ||: 100%|█████████████████████████████████████████████| 281/281 [00:03<00:00, 78.43it/s]\n",
            "accuracy: 0.8673, loss: 0.4522 ||: 100%|██████████████████████████████████████████████| 12/12 [00:00<00:00, 150.00it/s]\n",
            "accuracy: 0.9167, loss: 0.2244 ||: 100%|█████████████████████████████████████████████| 281/281 [00:03<00:00, 82.48it/s]\n",
            "accuracy: 0.8673, loss: 0.4477 ||: 100%|██████████████████████████████████████████████| 12/12 [00:00<00:00, 176.47it/s]\n",
            "accuracy: 0.9183, loss: 0.2190 ||: 100%|█████████████████████████████████████████████| 281/281 [00:03<00:00, 74.94it/s]\n",
            "accuracy: 0.8653, loss: 0.4432 ||: 100%|██████████████████████████████████████████████| 12/12 [00:00<00:00, 148.13it/s]\n",
            "accuracy: 0.9187, loss: 0.2201 ||: 100%|█████████████████████████████████████████████| 281/281 [00:03<00:00, 72.94it/s]\n",
            "accuracy: 0.8694, loss: 0.4418 ||: 100%|██████████████████████████████████████████████| 12/12 [00:00<00:00, 181.61it/s]\n",
            "accuracy: 0.9196, loss: 0.2157 ||: 100%|█████████████████████████████████████████████| 281/281 [00:03<00:00, 84.21it/s]\n",
            "accuracy: 0.8714, loss: 0.4328 ||: 100%|██████████████████████████████████████████████| 12/12 [00:00<00:00, 187.50it/s]\n",
            "accuracy: 0.9207, loss: 0.2133 ||: 100%|█████████████████████████████████████████████| 281/281 [00:03<00:00, 76.65it/s]\n",
            "accuracy: 0.8694, loss: 0.4370 ||: 100%|██████████████████████████████████████████████| 12/12 [00:00<00:00, 133.24it/s]\n",
            "accuracy: 0.9212, loss: 0.2141 ||: 100%|█████████████████████████████████████████████| 281/281 [00:04<00:00, 65.96it/s]\n",
            "accuracy: 0.8653, loss: 0.4421 ||: 100%|██████████████████████████████████████████████| 12/12 [00:00<00:00, 145.26it/s]\n",
            "accuracy: 0.9187, loss: 0.2105 ||: 100%|█████████████████████████████████████████████| 281/281 [00:03<00:00, 71.16it/s]\n",
            "accuracy: 0.8673, loss: 0.4254 ||: 100%|██████████████████████████████████████████████| 12/12 [00:00<00:00, 158.13it/s]\n",
            "accuracy: 0.9197, loss: 0.2127 ||: 100%|█████████████████████████████████████████████| 281/281 [00:03<00:00, 78.00it/s]\n",
            "accuracy: 0.8694, loss: 0.4286 ||: 100%|██████████████████████████████████████████████| 12/12 [00:00<00:00, 161.66it/s]\n",
            "accuracy: 0.9214, loss: 0.2078 ||: 100%|█████████████████████████████████████████████| 281/281 [00:03<00:00, 73.95it/s]\n",
            "accuracy: 0.8694, loss: 0.4261 ||: 100%|██████████████████████████████████████████████| 12/12 [00:00<00:00, 124.99it/s]\n",
            "accuracy: 0.9228, loss: 0.2043 ||: 100%|█████████████████████████████████████████████| 281/281 [00:03<00:00, 76.47it/s]\n",
            "accuracy: 0.8735, loss: 0.4137 ||: 100%|██████████████████████████████████████████████| 12/12 [00:00<00:00, 115.39it/s]\n",
            "accuracy: 0.9219, loss: 0.2039 ||: 100%|█████████████████████████████████████████████| 281/281 [00:04<00:00, 63.97it/s]\n",
            "accuracy: 0.8694, loss: 0.4090 ||: 100%|██████████████████████████████████████████████| 12/12 [00:00<00:00, 148.67it/s]\n",
            "accuracy: 0.9226, loss: 0.2012 ||: 100%|█████████████████████████████████████████████| 281/281 [00:04<00:00, 60.19it/s]\n",
            "accuracy: 0.8714, loss: 0.4118 ||: 100%|██████████████████████████████████████████████| 12/12 [00:00<00:00, 115.27it/s]\n",
            "accuracy: 0.9239, loss: 0.1980 ||: 100%|█████████████████████████████████████████████| 281/281 [00:03<00:00, 75.39it/s]\n",
            "accuracy: 0.8735, loss: 0.4196 ||: 100%|██████████████████████████████████████████████| 12/12 [00:00<00:00, 129.83it/s]\n",
            "accuracy: 0.9231, loss: 0.1972 ||: 100%|█████████████████████████████████████████████| 281/281 [00:03<00:00, 70.50it/s]\n",
            "accuracy: 0.8714, loss: 0.3989 ||: 100%|██████████████████████████████████████████████| 12/12 [00:00<00:00, 200.00it/s]\n",
            "accuracy: 0.9234, loss: 0.2005 ||: 100%|█████████████████████████████████████████████| 281/281 [00:03<00:00, 77.56it/s]\n",
            "accuracy: 0.8735, loss: 0.3947 ||: 100%|██████████████████████████████████████████████| 12/12 [00:00<00:00, 166.67it/s]\n",
            "accuracy: 0.9251, loss: 0.1941 ||: 100%|█████████████████████████████████████████████| 281/281 [00:03<00:00, 77.12it/s]\n",
            "accuracy: 0.8776, loss: 0.3928 ||: 100%|██████████████████████████████████████████████| 12/12 [00:00<00:00, 157.90it/s]\n",
            "accuracy: 0.9255, loss: 0.1926 ||: 100%|█████████████████████████████████████████████| 281/281 [00:04<00:00, 62.84it/s]\n",
            "accuracy: 0.8776, loss: 0.3924 ||: 100%|██████████████████████████████████████████████| 12/12 [00:00<00:00, 120.00it/s]\n",
            "accuracy: 0.9261, loss: 0.1903 ||: 100%|█████████████████████████████████████████████| 281/281 [00:03<00:00, 71.04it/s]\n",
            "accuracy: 0.8796, loss: 0.3985 ||: 100%|███████████████████████████████████████████████| 12/12 [00:00<00:00, 86.28it/s]\n",
            "accuracy: 0.9278, loss: 0.1898 ||: 100%|█████████████████████████████████████████████| 281/281 [00:04<00:00, 68.10it/s]\n",
            "accuracy: 0.8816, loss: 0.3906 ||: 100%|███████████████████████████████████████████████| 12/12 [00:00<00:00, 92.10it/s]\n"
          ],
          "name": "stderr"
        },
        {
          "output_type": "execute_result",
          "data": {
            "text/plain": [
              "{'best_epoch': 99,\n",
              " 'peak_cpu_memory_MB': 0,\n",
              " 'peak_gpu_0_memory_MB': 615,\n",
              " 'training_duration': '0:05:55.246723',\n",
              " 'training_start_epoch': 0,\n",
              " 'training_epochs': 99,\n",
              " 'epoch': 99,\n",
              " 'training_accuracy': 0.9277618896303358,\n",
              " 'training_loss': 0.18980582684276,\n",
              " 'training_cpu_memory_MB': 0.0,\n",
              " 'training_gpu_0_memory_MB': 615,\n",
              " 'validation_accuracy': 0.8816326530612245,\n",
              " 'validation_loss': 0.3906479166083348,\n",
              " 'best_validation_accuracy': 0.8816326530612245,\n",
              " 'best_validation_loss': 0.3906479166083348}"
            ]
          },
          "metadata": {
            "tags": []
          },
          "execution_count": 5
        }
      ]
    },
    {
      "cell_type": "markdown",
      "metadata": {
        "colab_type": "text",
        "id": "mwN6ctqVV0tf"
      },
      "source": [
        "## Evaluation"
      ]
    },
    {
      "cell_type": "markdown",
      "metadata": {
        "colab_type": "text",
        "id": "qkDs_UdIeuFz"
      },
      "source": [
        "The simple code below creators a `predictor` object that applies the model to an input example and then loops over the examples in the validation set, printing out the input token, gold-standard output, and model output. You can see from these methods how to access data and model outputs for evaluation."
      ]
    },
    {
      "cell_type": "code",
      "metadata": {
        "colab_type": "code",
        "id": "S0bE4fmLik08",
        "colab": {}
      },
      "source": [
        "predictor = SentenceTaggerPredictor(model, dataset_reader=reader)\n",
        "\n",
        "def tag_sentence(s):\n",
        "    tag_ids = np.argmax(predictor.predict_instance(s)['tag_logits'], axis=-1)\n",
        "    fields = zip(s['tokens'], s['tags'], [model.vocab.get_token_from_index(i, 'labels') for i in tag_ids])\n",
        "    return list(fields)\n",
        "tag_sentence(validation_dataset[0])\n",
        "\n",
        "baseline_output = [tag_sentence(i) for i in validation_dataset]"
      ],
      "execution_count": 0,
      "outputs": []
    },
    {
      "cell_type": "markdown",
      "metadata": {
        "colab_type": "text",
        "id": "BpYMx7RVfCyT"
      },
      "source": [
        "Now, you can implement two evaluation functions: `violations` and `span_stats`."
      ]
    },
    {
      "cell_type": "code",
      "metadata": {
        "colab_type": "code",
        "id": "P042A2Ofg3wa",
        "outputId": "b92a049a-94ef-420f-9676-19547ffd546f",
        "colab": {
          "base_uri": "https://localhost:8080/",
          "height": 313
        }
      },
      "source": [
        "# TODO: count the number of NER label violations,\n",
        "# such as O followed by I-TYPE or B-TYPE followed by\n",
        "# I-OTHER_TYPE\n",
        "# Take tagger output as input\n",
        "def violations(tagged):\n",
        "    count = 0\n",
        "#     sen_index = 0\n",
        "    for sentence in tagged:\n",
        "#         sen_index += 1\n",
        "#         index = 0\n",
        "        prev_tag = ''\n",
        "#         print(\"\\n\")\n",
        "#         print(\"sentence \"+str(sen_index))\n",
        "        for word in sentence:\n",
        "#             index += 1\n",
        "#             print(word,\" - \"*10,str(index))\n",
        "            tag = word[2]\n",
        "            if tag != 'O':\n",
        "                if tag.startswith('I-'):\n",
        "                    if prev_tag == '':\n",
        "                        count += 1\n",
        "                    else:\n",
        "                        if tag[2:] != prev_tag:\n",
        "                            count += 1\n",
        "                    prev_tag = tag[2:]\n",
        "                elif tag.startswith('B-'):\n",
        "                    prev_tag = tag[2:]\n",
        "            else:\n",
        "                prev_tag = ''\n",
        "                \n",
        "            \n",
        "    return count\n",
        "\n",
        "\n",
        "# TODO: return the span-level precision, recall, and F1\n",
        "# Take tagger output as input\n",
        "def span_stats(tagged):\n",
        "    gold_span, model_span = list(), list()\n",
        "    sen_index = 0\n",
        "    for sentence in tagged:\n",
        "        sen_index += 1\n",
        "        \n",
        "        prev_tag_gold = ''\n",
        "        word_index = 0\n",
        "        start_gold = 0\n",
        "        end_gold = 0\n",
        "        prev_tag_model = ''\n",
        "        start_model, end_model = 0,0 \n",
        "        for word in sentence:\n",
        "            word_index += 1\n",
        "            tag_gold = word[1]\n",
        "            if tag_gold != 'O':\n",
        "                if tag_gold.startswith(\"B-\"):\n",
        "                    end_gold = word_index - 1\n",
        "                    if prev_tag_gold != '':\n",
        "                        gold_span.append((prev_tag_gold, start_gold, end_gold, sen_index))\n",
        "                    start_gold = word_index\n",
        "                    prev_tag_gold = tag_gold[2:]\n",
        "            else: \n",
        "                end_gold = word_index - 1\n",
        "                if prev_tag_gold != '':\n",
        "                    gold_span.append((prev_tag_gold, start_gold, end_gold, sen_index))\n",
        "                prev_tag_gold = ''\n",
        "                                         \n",
        "            tag_model = word[2]\n",
        "                                    \n",
        "            if tag_model != 'O':\n",
        "                if tag_model.startswith(\"B-\"):\n",
        "                    end_model = word_index - 1\n",
        "                    if prev_tag_model != '':\n",
        "                        model_span.append((prev_tag_model, start_model, end_model, sen_index))\n",
        "                    start_model = word_index\n",
        "                    prev_tag_model = tag_model[2:]\n",
        "                elif tag_model.startswith(\"I-\"):\n",
        "                    if prev_tag_model != tag_model[2:]:\n",
        "                        prev_tag_model = ''\n",
        "                        \n",
        "            else:\n",
        "                end_model = word_index - 1\n",
        "                if prev_tag_model != '':\n",
        "                    model_span.append((prev_tag_model, start_model, end_model, sen_index))\n",
        "                prev_tag_model = ''\n",
        "        \n",
        "        if prev_tag_gold != '':\n",
        "            end_gold = word_index - 1\n",
        "            gold_span.append((prev_tag_gold, start_gold, end_gold, sen_index))\n",
        "            \n",
        "        if prev_tag_model != '':\n",
        "            end_model = word_index - 1\n",
        "            model_span.append((prev_tag_model, start_model, end_model, sen_index))\n",
        "    \n",
        "#     print(gold_span)\n",
        "#     print('-'*15)\n",
        "#     print(model_span)  \n",
        "    \n",
        "    matching_span_count = 0 \n",
        "    for each in model_span:\n",
        "        if each in gold_span:\n",
        "            matching_span_count += 1\n",
        "            \n",
        "#     print(matching_span_count)\n",
        "    \n",
        "    precision = matching_span_count/ len(model_span)\n",
        "    recall = matching_span_count / len(gold_span)\n",
        "    \n",
        "    f1 = 2*(precision * recall)/ (precision+recall)\n",
        "#     print(precision, \" \", recall, \" \", f1)\n",
        "    \n",
        "#     print(len(gold_span),\" \", len(model_span))\n",
        "    return {'precision': precision,\n",
        "          'recall': recall,\n",
        "          'f1': f1}\n",
        "\n",
        "## You can check how many violations are made by the model output in predictor.\n",
        "violations(baseline_output)"
      ],
      "execution_count": 0,
      "outputs": [
        {
          "output_type": "execute_result",
          "data": {
            "text/plain": [
              "32"
            ]
          },
          "metadata": {
            "tags": []
          },
          "execution_count": 7
        }
      ]
    },
    {
      "cell_type": "code",
      "metadata": {
        "id": "3CIUDPFZth24",
        "colab_type": "code",
        "colab": {},
        "outputId": "4f469bbe-f549-45ad-a080-64118d9a9207"
      },
      "source": [
        "span_stats(baseline_output)"
      ],
      "execution_count": 0,
      "outputs": [
        {
          "output_type": "execute_result",
          "data": {
            "text/plain": [
              "{'precision': 0.5555555555555556,\n",
              " 'recall': 0.23255813953488372,\n",
              " 'f1': 0.3278688524590164}"
            ]
          },
          "metadata": {
            "tags": []
          },
          "execution_count": 8
        }
      ]
    },
    {
      "cell_type": "markdown",
      "metadata": {
        "colab_type": "text",
        "id": "fX7-quD2hnzB"
      },
      "source": [
        "## Decoding"
      ]
    },
    {
      "cell_type": "markdown",
      "metadata": {
        "colab_type": "text",
        "id": "WCgW9d9ohsGv"
      },
      "source": [
        "Now you can finally implement the simple Viterbi decoder. The `predictor` object, when applied to an input sentence, first calculates the scores for each possible output tag for each token. See the line `predictor.predict_instance(i)['tag_logits']` in the code above.\n",
        "\n",
        "Then, you will construct a transition matrix. You can use the code below to get a list of the tags the model knows about. For a set of K tags, construct a K-by-K matrix with a log(1)=0 when a transition between a given tag pair is valid and a log(0)=-infinity otherwise.\n",
        "\n",
        "Finally, implement a Viterbi decoder that takes the predictor object and a dataset object and outputs tagged data, just like the `tag_sentence` function above. It should use the Viterbi algorithm with the (max, plus) semiring. You'll be working with sums of log probabilities instead of products of probabilties.\n",
        "\n",
        "Run your `violations` function on the output of this decoder to make sure that there are no invalid tag transitions. Also, compare the span-level metrics on `baseline_output` and your new output using your `span_stats` function."
      ]
    },
    {
      "cell_type": "code",
      "metadata": {
        "colab_type": "code",
        "id": "nlP8vZhiS68K",
        "outputId": "8912b8d2-9981-4f1f-cc37-2639beb54608",
        "colab": {
          "base_uri": "https://localhost:8080/",
          "height": 54
        }
      },
      "source": [
        "# This code show how to map from output vector components to labels\n",
        "print(vocab.get_index_to_token_vocabulary('labels'))"
      ],
      "execution_count": 0,
      "outputs": [
        {
          "output_type": "stream",
          "text": [
            "{0: 'O', 1: 'B-GPE', 2: 'I-ORG', 3: 'I-DATE', 4: 'B-CARDINAL', 5: 'I-EVENT', 6: 'B-PERSON', 7: 'B-NORP', 8: 'B-DATE', 9: 'B-ORG', 10: 'B-LOC', 11: 'I-LOC', 12: 'I-FAC', 13: 'I-PERSON', 14: 'I-GPE', 15: 'I-CARDINAL', 16: 'B-EVENT', 17: 'I-TIME', 18: 'I-WORK_OF_ART', 19: 'B-ORDINAL', 20: 'B-FAC', 21: 'B-TIME', 22: 'I-LAW', 23: 'I-QUANTITY', 24: 'I-NORP', 25: 'I-MONEY', 26: 'B-MONEY', 27: 'B-WORK_OF_ART', 28: 'B-QUANTITY', 29: 'B-LAW', 30: 'B-PRODUCT', 31: 'I-PRODUCT', 32: 'B-PERCENT', 33: 'I-PERCENT'}\n"
          ],
          "name": "stdout"
        }
      ]
    },
    {
      "cell_type": "code",
      "metadata": {
        "id": "zZyvnajcth2_",
        "colab_type": "code",
        "colab": {}
      },
      "source": [
        "n_inf = float(\"-inf\")\n",
        "transition_matrix = list()\n",
        "\n",
        "initial_prob = []\n",
        "vocab_dict = vocab.get_index_to_token_vocabulary('labels')\n",
        "for index in vocab_dict:\n",
        "    label = vocab_dict[index]\n",
        "    if label == 'O' or label.startswith(\"B\"):\n",
        "        initial_prob.append(0)\n",
        "    else:\n",
        "        initial_prob.append(n_inf)\n",
        "\n",
        "for row_i in vocab_dict:\n",
        "    row_label = vocab_dict[row_i]\n",
        "    cur_tag = ''\n",
        "    if row_label != 'O':\n",
        "        cur_tag = row_label[2:]\n",
        "    new_list = list()\n",
        "#     new_list.append(row_label)\n",
        "    for col_i in vocab_dict:\n",
        "        col_label = vocab_dict[col_i]\n",
        "        if row_label == 'O':\n",
        "            if col_label =='O' or col_label.startswith(\"B\"):\n",
        "                new_list.append(0)\n",
        "            else:\n",
        "                new_list.append(n_inf)\n",
        "        else:\n",
        "            if col_label.startswith(\"B\") or (col_label.startswith(\"I\") and cur_tag == col_label[2:]) or col_label == 'O':\n",
        "                new_list.append(0)\n",
        "            else:\n",
        "                new_list.append(n_inf)\n",
        "    transition_matrix.append(new_list)\n",
        "trans_prob = np.array(transition_matrix)"
      ],
      "execution_count": 0,
      "outputs": []
    },
    {
      "cell_type": "code",
      "metadata": {
        "colab_type": "code",
        "id": "QNpScvPJLTcZ",
        "colab": {}
      },
      "source": [
        "def viterbi_decoder(s):\n",
        "    obs_likelyhood = predictor.predict_instance(s)['tag_logits']\n",
        "    emission_prob = np.array(obs_likelyhood)\n",
        "    \n",
        "    T = len(emission_prob)\n",
        "    N = len(vocab_dict)\n",
        "    \n",
        "    viterabi = np.array([[0.0 for j in range(T)] for i in range(N)])\n",
        "    backpointers = np.array([[-1 for j in range(T)] for i in range(N)])\n",
        "    \n",
        "    for i in range(T):\n",
        "        if i==0:\n",
        "            viterabi[:,0]= np.add(initial_prob, emission_prob[i])\n",
        "        else:\n",
        "            for j in range(N):\n",
        "                viterabi[j,i]= np.max(np.add(trans_prob[:,j] , viterabi[:,i-1])) + emission_prob[i,j]\n",
        "                backpointers[j,i] = np.argmax(np.add(trans_prob[:,j] , viterabi[:,i-1]))\n",
        "        \n",
        "#     print(viterabi)\n",
        "#     print(type(backpointers))\n",
        "    ind = np.argmax(viterabi[:,i])\n",
        "    tag_ids = []\n",
        "    while ind != -1:\n",
        "        tag_ids.append(ind)\n",
        "        ind = backpointers[ind,i]\n",
        "        i -= 1\n",
        "\n",
        "    tag_ids.reverse()\n",
        "#     print(tag_ids)\n",
        "    fields = zip(s['tokens'], s['tags'], [model.vocab.get_token_from_index(i, 'labels') for i in tag_ids])\n",
        "    return list(fields)\n",
        "    \n",
        "    \n",
        "baseline_viterbi_outputs = [viterbi_decoder(i) for i in validation_dataset]    "
      ],
      "execution_count": 0,
      "outputs": []
    },
    {
      "cell_type": "code",
      "metadata": {
        "id": "OcOdM2DVth3D",
        "colab_type": "code",
        "colab": {},
        "outputId": "bc0747bf-7d18-4faf-e3a0-da1dda89bfc9"
      },
      "source": [
        "violations(baseline_viterbi_outputs)"
      ],
      "execution_count": 0,
      "outputs": [
        {
          "output_type": "execute_result",
          "data": {
            "text/plain": [
              "0"
            ]
          },
          "metadata": {
            "tags": []
          },
          "execution_count": 32
        }
      ]
    },
    {
      "cell_type": "code",
      "metadata": {
        "id": "GRZJGTrUth3F",
        "colab_type": "code",
        "colab": {},
        "outputId": "2291e737-5da9-4eba-a501-fb8e79080df3"
      },
      "source": [
        "span_stats(baseline_viterbi_outputs)"
      ],
      "execution_count": 0,
      "outputs": [
        {
          "output_type": "execute_result",
          "data": {
            "text/plain": [
              "{'precision': 0.3829787234042553, 'recall': 0.4186046511627907, 'f1': 0.4}"
            ]
          },
          "metadata": {
            "tags": []
          },
          "execution_count": 33
        }
      ]
    }
  ]
}